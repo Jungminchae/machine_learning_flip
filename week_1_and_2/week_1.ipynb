{
 "cells": [
  {
   "cell_type": "code",
   "execution_count": 32,
   "id": "divided-chicago",
   "metadata": {},
   "outputs": [],
   "source": [
    "import os \n",
    "import warnings\n",
    "import pandas as pd\n",
    "import numpy as np \n",
    "\n",
    "import matplotlib.pyplot as plt\n",
    "import seaborn as sns"
   ]
  },
  {
   "cell_type": "code",
   "execution_count": 33,
   "id": "determined-emperor",
   "metadata": {},
   "outputs": [],
   "source": [
    "plt.style.use(\"fivethirtyeight\")\n",
    "warnings.filterwarnings(\"ignore\")"
   ]
  },
  {
   "cell_type": "code",
   "execution_count": 34,
   "id": "noticed-eleven",
   "metadata": {},
   "outputs": [
    {
     "data": {
      "text/plain": [
       "['submission.csv', 'FIFA_train.csv', 'FIFA_test.csv']"
      ]
     },
     "execution_count": 34,
     "metadata": {},
     "output_type": "execute_result"
    }
   ],
   "source": [
    "os.listdir(\"./data\")"
   ]
  },
  {
   "cell_type": "code",
   "execution_count": 35,
   "id": "competitive-sweet",
   "metadata": {},
   "outputs": [],
   "source": [
    "# dataset 경로\n",
    "# 절대 경로로 설정하면 os마다 차이가 크게 날 수 있음\n",
    "train_path = os.path.join(\"data\", \"FIFA_train.csv\")\n",
    "test_path = os.path.join(\"data\", \"FIFA_test.csv\")"
   ]
  },
  {
   "cell_type": "code",
   "execution_count": 36,
   "id": "retired-intermediate",
   "metadata": {},
   "outputs": [],
   "source": [
    "# dataset load\n",
    "train = pd.read_csv(train_path)\n",
    "test = pd.read_csv(test_path)"
   ]
  },
  {
   "cell_type": "code",
   "execution_count": 37,
   "id": "hired-fleece",
   "metadata": {},
   "outputs": [
    {
     "name": "stdout",
     "output_type": "stream",
     "text": [
      "<class 'pandas.core.frame.DataFrame'>\n",
      "RangeIndex: 8932 entries, 0 to 8931\n",
      "Data columns (total 12 columns):\n",
      " #   Column            Non-Null Count  Dtype  \n",
      "---  ------            --------------  -----  \n",
      " 0   id                8932 non-null   int64  \n",
      " 1   name              8932 non-null   object \n",
      " 2   age               8932 non-null   int64  \n",
      " 3   continent         8932 non-null   object \n",
      " 4   contract_until    8932 non-null   object \n",
      " 5   position          8932 non-null   object \n",
      " 6   prefer_foot       8932 non-null   object \n",
      " 7   reputation        8932 non-null   float64\n",
      " 8   stat_overall      8932 non-null   int64  \n",
      " 9   stat_potential    8932 non-null   int64  \n",
      " 10  stat_skill_moves  8932 non-null   float64\n",
      " 11  value             8932 non-null   float64\n",
      "dtypes: float64(3), int64(4), object(5)\n",
      "memory usage: 837.5+ KB\n"
     ]
    }
   ],
   "source": [
    "# info\n",
    "train.info()"
   ]
  },
  {
   "cell_type": "code",
   "execution_count": 38,
   "id": "parliamentary-application",
   "metadata": {},
   "outputs": [
    {
     "name": "stdout",
     "output_type": "stream",
     "text": [
      "<class 'pandas.core.frame.DataFrame'>\n",
      "RangeIndex: 3828 entries, 0 to 3827\n",
      "Data columns (total 11 columns):\n",
      " #   Column            Non-Null Count  Dtype  \n",
      "---  ------            --------------  -----  \n",
      " 0   id                3828 non-null   int64  \n",
      " 1   name              3828 non-null   object \n",
      " 2   age               3828 non-null   int64  \n",
      " 3   continent         3828 non-null   object \n",
      " 4   contract_until    3828 non-null   object \n",
      " 5   position          3828 non-null   object \n",
      " 6   prefer_foot       3828 non-null   object \n",
      " 7   reputation        3828 non-null   float64\n",
      " 8   stat_overall      3828 non-null   int64  \n",
      " 9   stat_potential    3828 non-null   int64  \n",
      " 10  stat_skill_moves  3828 non-null   float64\n",
      "dtypes: float64(2), int64(4), object(5)\n",
      "memory usage: 329.1+ KB\n"
     ]
    }
   ],
   "source": [
    "test.info()"
   ]
  },
  {
   "cell_type": "code",
   "execution_count": 39,
   "id": "radical-failing",
   "metadata": {},
   "outputs": [
    {
     "data": {
      "text/plain": [
       "(8932, 12)"
      ]
     },
     "execution_count": 39,
     "metadata": {},
     "output_type": "execute_result"
    }
   ],
   "source": [
    "# train부터 살펴보기\n",
    "# shape\n",
    "train.shape"
   ]
  },
  {
   "cell_type": "code",
   "execution_count": 40,
   "id": "headed-blackjack",
   "metadata": {},
   "outputs": [
    {
     "data": {
      "text/html": [
       "<div>\n",
       "<style scoped>\n",
       "    .dataframe tbody tr th:only-of-type {\n",
       "        vertical-align: middle;\n",
       "    }\n",
       "\n",
       "    .dataframe tbody tr th {\n",
       "        vertical-align: top;\n",
       "    }\n",
       "\n",
       "    .dataframe thead th {\n",
       "        text-align: right;\n",
       "    }\n",
       "</style>\n",
       "<table border=\"1\" class=\"dataframe\">\n",
       "  <thead>\n",
       "    <tr style=\"text-align: right;\">\n",
       "      <th></th>\n",
       "      <th>id</th>\n",
       "      <th>name</th>\n",
       "      <th>age</th>\n",
       "      <th>continent</th>\n",
       "      <th>contract_until</th>\n",
       "      <th>position</th>\n",
       "      <th>prefer_foot</th>\n",
       "      <th>reputation</th>\n",
       "      <th>stat_overall</th>\n",
       "      <th>stat_potential</th>\n",
       "      <th>stat_skill_moves</th>\n",
       "      <th>value</th>\n",
       "    </tr>\n",
       "  </thead>\n",
       "  <tbody>\n",
       "    <tr>\n",
       "      <th>0</th>\n",
       "      <td>0</td>\n",
       "      <td>L. Messi</td>\n",
       "      <td>31</td>\n",
       "      <td>south america</td>\n",
       "      <td>2021</td>\n",
       "      <td>ST</td>\n",
       "      <td>left</td>\n",
       "      <td>5.0</td>\n",
       "      <td>94</td>\n",
       "      <td>94</td>\n",
       "      <td>4.0</td>\n",
       "      <td>110500000.0</td>\n",
       "    </tr>\n",
       "    <tr>\n",
       "      <th>1</th>\n",
       "      <td>3</td>\n",
       "      <td>De Gea</td>\n",
       "      <td>27</td>\n",
       "      <td>europe</td>\n",
       "      <td>2020</td>\n",
       "      <td>GK</td>\n",
       "      <td>right</td>\n",
       "      <td>4.0</td>\n",
       "      <td>91</td>\n",
       "      <td>93</td>\n",
       "      <td>1.0</td>\n",
       "      <td>72000000.0</td>\n",
       "    </tr>\n",
       "    <tr>\n",
       "      <th>2</th>\n",
       "      <td>7</td>\n",
       "      <td>L. Suárez</td>\n",
       "      <td>31</td>\n",
       "      <td>south america</td>\n",
       "      <td>2021</td>\n",
       "      <td>ST</td>\n",
       "      <td>right</td>\n",
       "      <td>5.0</td>\n",
       "      <td>91</td>\n",
       "      <td>91</td>\n",
       "      <td>3.0</td>\n",
       "      <td>80000000.0</td>\n",
       "    </tr>\n",
       "    <tr>\n",
       "      <th>3</th>\n",
       "      <td>8</td>\n",
       "      <td>Sergio Ramos</td>\n",
       "      <td>32</td>\n",
       "      <td>europe</td>\n",
       "      <td>2020</td>\n",
       "      <td>DF</td>\n",
       "      <td>right</td>\n",
       "      <td>4.0</td>\n",
       "      <td>91</td>\n",
       "      <td>91</td>\n",
       "      <td>3.0</td>\n",
       "      <td>51000000.0</td>\n",
       "    </tr>\n",
       "    <tr>\n",
       "      <th>4</th>\n",
       "      <td>9</td>\n",
       "      <td>J. Oblak</td>\n",
       "      <td>25</td>\n",
       "      <td>europe</td>\n",
       "      <td>2021</td>\n",
       "      <td>GK</td>\n",
       "      <td>right</td>\n",
       "      <td>3.0</td>\n",
       "      <td>90</td>\n",
       "      <td>93</td>\n",
       "      <td>1.0</td>\n",
       "      <td>68000000.0</td>\n",
       "    </tr>\n",
       "  </tbody>\n",
       "</table>\n",
       "</div>"
      ],
      "text/plain": [
       "   id          name  age      continent contract_until position prefer_foot  \\\n",
       "0   0      L. Messi   31  south america           2021       ST        left   \n",
       "1   3        De Gea   27         europe           2020       GK       right   \n",
       "2   7     L. Suárez   31  south america           2021       ST       right   \n",
       "3   8  Sergio Ramos   32         europe           2020       DF       right   \n",
       "4   9      J. Oblak   25         europe           2021       GK       right   \n",
       "\n",
       "   reputation  stat_overall  stat_potential  stat_skill_moves        value  \n",
       "0         5.0            94              94               4.0  110500000.0  \n",
       "1         4.0            91              93               1.0   72000000.0  \n",
       "2         5.0            91              91               3.0   80000000.0  \n",
       "3         4.0            91              91               3.0   51000000.0  \n",
       "4         3.0            90              93               1.0   68000000.0  "
      ]
     },
     "execution_count": 40,
     "metadata": {},
     "output_type": "execute_result"
    }
   ],
   "source": [
    "# head \n",
    "train.head()"
   ]
  },
  {
   "cell_type": "code",
   "execution_count": 41,
   "id": "moved-wisdom",
   "metadata": {},
   "outputs": [
    {
     "data": {
      "text/html": [
       "<div>\n",
       "<style scoped>\n",
       "    .dataframe tbody tr th:only-of-type {\n",
       "        vertical-align: middle;\n",
       "    }\n",
       "\n",
       "    .dataframe tbody tr th {\n",
       "        vertical-align: top;\n",
       "    }\n",
       "\n",
       "    .dataframe thead th {\n",
       "        text-align: right;\n",
       "    }\n",
       "</style>\n",
       "<table border=\"1\" class=\"dataframe\">\n",
       "  <thead>\n",
       "    <tr style=\"text-align: right;\">\n",
       "      <th></th>\n",
       "      <th>count</th>\n",
       "      <th>mean</th>\n",
       "      <th>std</th>\n",
       "      <th>min</th>\n",
       "      <th>25%</th>\n",
       "      <th>50%</th>\n",
       "      <th>75%</th>\n",
       "      <th>max</th>\n",
       "    </tr>\n",
       "  </thead>\n",
       "  <tbody>\n",
       "    <tr>\n",
       "      <th>id</th>\n",
       "      <td>8932.0</td>\n",
       "      <td>7.966776e+03</td>\n",
       "      <td>4.844429e+03</td>\n",
       "      <td>0.0</td>\n",
       "      <td>3751.75</td>\n",
       "      <td>7696.5</td>\n",
       "      <td>12082.25</td>\n",
       "      <td>16948.0</td>\n",
       "    </tr>\n",
       "    <tr>\n",
       "      <th>age</th>\n",
       "      <td>8932.0</td>\n",
       "      <td>2.520914e+01</td>\n",
       "      <td>4.635515e+00</td>\n",
       "      <td>16.0</td>\n",
       "      <td>21.00</td>\n",
       "      <td>25.0</td>\n",
       "      <td>28.00</td>\n",
       "      <td>40.0</td>\n",
       "    </tr>\n",
       "    <tr>\n",
       "      <th>reputation</th>\n",
       "      <td>8932.0</td>\n",
       "      <td>1.130878e+00</td>\n",
       "      <td>4.237919e-01</td>\n",
       "      <td>1.0</td>\n",
       "      <td>1.00</td>\n",
       "      <td>1.0</td>\n",
       "      <td>1.00</td>\n",
       "      <td>5.0</td>\n",
       "    </tr>\n",
       "    <tr>\n",
       "      <th>stat_overall</th>\n",
       "      <td>8932.0</td>\n",
       "      <td>6.709113e+01</td>\n",
       "      <td>6.854910e+00</td>\n",
       "      <td>47.0</td>\n",
       "      <td>63.00</td>\n",
       "      <td>67.0</td>\n",
       "      <td>72.00</td>\n",
       "      <td>94.0</td>\n",
       "    </tr>\n",
       "    <tr>\n",
       "      <th>stat_potential</th>\n",
       "      <td>8932.0</td>\n",
       "      <td>7.199720e+01</td>\n",
       "      <td>5.988147e+00</td>\n",
       "      <td>48.0</td>\n",
       "      <td>68.00</td>\n",
       "      <td>72.0</td>\n",
       "      <td>76.00</td>\n",
       "      <td>94.0</td>\n",
       "    </tr>\n",
       "    <tr>\n",
       "      <th>stat_skill_moves</th>\n",
       "      <td>8932.0</td>\n",
       "      <td>2.401702e+00</td>\n",
       "      <td>7.760476e-01</td>\n",
       "      <td>1.0</td>\n",
       "      <td>2.00</td>\n",
       "      <td>2.0</td>\n",
       "      <td>3.00</td>\n",
       "      <td>5.0</td>\n",
       "    </tr>\n",
       "    <tr>\n",
       "      <th>value</th>\n",
       "      <td>8932.0</td>\n",
       "      <td>2.778673e+06</td>\n",
       "      <td>5.840982e+06</td>\n",
       "      <td>10000.0</td>\n",
       "      <td>375000.00</td>\n",
       "      <td>825000.0</td>\n",
       "      <td>2600000.00</td>\n",
       "      <td>110500000.0</td>\n",
       "    </tr>\n",
       "  </tbody>\n",
       "</table>\n",
       "</div>"
      ],
      "text/plain": [
       "                   count          mean           std      min        25%  \\\n",
       "id                8932.0  7.966776e+03  4.844429e+03      0.0    3751.75   \n",
       "age               8932.0  2.520914e+01  4.635515e+00     16.0      21.00   \n",
       "reputation        8932.0  1.130878e+00  4.237919e-01      1.0       1.00   \n",
       "stat_overall      8932.0  6.709113e+01  6.854910e+00     47.0      63.00   \n",
       "stat_potential    8932.0  7.199720e+01  5.988147e+00     48.0      68.00   \n",
       "stat_skill_moves  8932.0  2.401702e+00  7.760476e-01      1.0       2.00   \n",
       "value             8932.0  2.778673e+06  5.840982e+06  10000.0  375000.00   \n",
       "\n",
       "                       50%         75%          max  \n",
       "id                  7696.5    12082.25      16948.0  \n",
       "age                   25.0       28.00         40.0  \n",
       "reputation             1.0        1.00          5.0  \n",
       "stat_overall          67.0       72.00         94.0  \n",
       "stat_potential        72.0       76.00         94.0  \n",
       "stat_skill_moves       2.0        3.00          5.0  \n",
       "value             825000.0  2600000.00  110500000.0  "
      ]
     },
     "execution_count": 41,
     "metadata": {},
     "output_type": "execute_result"
    }
   ],
   "source": [
    "# 기술통계량\n",
    "train.describe().T"
   ]
  },
  {
   "cell_type": "code",
   "execution_count": 42,
   "id": "detailed-study",
   "metadata": {},
   "outputs": [
    {
     "data": {
      "text/plain": [
       "id                  0\n",
       "name                0\n",
       "age                 0\n",
       "continent           0\n",
       "contract_until      0\n",
       "position            0\n",
       "prefer_foot         0\n",
       "reputation          0\n",
       "stat_overall        0\n",
       "stat_potential      0\n",
       "stat_skill_moves    0\n",
       "value               0\n",
       "dtype: int64"
      ]
     },
     "execution_count": 42,
     "metadata": {},
     "output_type": "execute_result"
    }
   ],
   "source": [
    "# NA value\n",
    "train.isna().sum()"
   ]
  },
  {
   "cell_type": "code",
   "execution_count": 43,
   "id": "lesbian-rebound",
   "metadata": {},
   "outputs": [
    {
     "data": {
      "text/plain": [
       "{'value'}"
      ]
     },
     "execution_count": 43,
     "metadata": {},
     "output_type": "execute_result"
    }
   ],
   "source": [
    "# train columns - test columns \n",
    "set(train.columns) - set(test.columns)"
   ]
  },
  {
   "cell_type": "markdown",
   "id": "arbitrary-pipeline",
   "metadata": {},
   "source": [
    "# 데이터 자세히 살펴보기"
   ]
  },
  {
   "cell_type": "code",
   "execution_count": 44,
   "id": "collaborative-regulation",
   "metadata": {
    "scrolled": true
   },
   "outputs": [
    {
     "data": {
      "text/html": [
       "<div>\n",
       "<style scoped>\n",
       "    .dataframe tbody tr th:only-of-type {\n",
       "        vertical-align: middle;\n",
       "    }\n",
       "\n",
       "    .dataframe tbody tr th {\n",
       "        vertical-align: top;\n",
       "    }\n",
       "\n",
       "    .dataframe thead th {\n",
       "        text-align: right;\n",
       "    }\n",
       "</style>\n",
       "<table border=\"1\" class=\"dataframe\">\n",
       "  <thead>\n",
       "    <tr style=\"text-align: right;\">\n",
       "      <th></th>\n",
       "      <th>id</th>\n",
       "      <th>name</th>\n",
       "      <th>age</th>\n",
       "      <th>continent</th>\n",
       "      <th>contract_until</th>\n",
       "      <th>position</th>\n",
       "      <th>prefer_foot</th>\n",
       "      <th>reputation</th>\n",
       "      <th>stat_overall</th>\n",
       "      <th>stat_potential</th>\n",
       "      <th>stat_skill_moves</th>\n",
       "      <th>value</th>\n",
       "    </tr>\n",
       "  </thead>\n",
       "  <tbody>\n",
       "    <tr>\n",
       "      <th>0</th>\n",
       "      <td>0</td>\n",
       "      <td>L. Messi</td>\n",
       "      <td>31</td>\n",
       "      <td>south america</td>\n",
       "      <td>2021</td>\n",
       "      <td>ST</td>\n",
       "      <td>left</td>\n",
       "      <td>5.0</td>\n",
       "      <td>94</td>\n",
       "      <td>94</td>\n",
       "      <td>4.0</td>\n",
       "      <td>110500000.0</td>\n",
       "    </tr>\n",
       "    <tr>\n",
       "      <th>2</th>\n",
       "      <td>7</td>\n",
       "      <td>L. Suárez</td>\n",
       "      <td>31</td>\n",
       "      <td>south america</td>\n",
       "      <td>2021</td>\n",
       "      <td>ST</td>\n",
       "      <td>right</td>\n",
       "      <td>5.0</td>\n",
       "      <td>91</td>\n",
       "      <td>91</td>\n",
       "      <td>3.0</td>\n",
       "      <td>80000000.0</td>\n",
       "    </tr>\n",
       "    <tr>\n",
       "      <th>17</th>\n",
       "      <td>30</td>\n",
       "      <td>Isco</td>\n",
       "      <td>26</td>\n",
       "      <td>europe</td>\n",
       "      <td>2022</td>\n",
       "      <td>ST</td>\n",
       "      <td>right</td>\n",
       "      <td>3.0</td>\n",
       "      <td>88</td>\n",
       "      <td>91</td>\n",
       "      <td>4.0</td>\n",
       "      <td>73500000.0</td>\n",
       "    </tr>\n",
       "    <tr>\n",
       "      <th>1</th>\n",
       "      <td>3</td>\n",
       "      <td>De Gea</td>\n",
       "      <td>27</td>\n",
       "      <td>europe</td>\n",
       "      <td>2020</td>\n",
       "      <td>GK</td>\n",
       "      <td>right</td>\n",
       "      <td>4.0</td>\n",
       "      <td>91</td>\n",
       "      <td>93</td>\n",
       "      <td>1.0</td>\n",
       "      <td>72000000.0</td>\n",
       "    </tr>\n",
       "    <tr>\n",
       "      <th>14</th>\n",
       "      <td>26</td>\n",
       "      <td>M. Salah</td>\n",
       "      <td>26</td>\n",
       "      <td>africa</td>\n",
       "      <td>2023</td>\n",
       "      <td>MF</td>\n",
       "      <td>left</td>\n",
       "      <td>3.0</td>\n",
       "      <td>88</td>\n",
       "      <td>89</td>\n",
       "      <td>4.0</td>\n",
       "      <td>69500000.0</td>\n",
       "    </tr>\n",
       "    <tr>\n",
       "      <th>18</th>\n",
       "      <td>32</td>\n",
       "      <td>Coutinho</td>\n",
       "      <td>26</td>\n",
       "      <td>south america</td>\n",
       "      <td>2023</td>\n",
       "      <td>ST</td>\n",
       "      <td>right</td>\n",
       "      <td>3.0</td>\n",
       "      <td>88</td>\n",
       "      <td>89</td>\n",
       "      <td>5.0</td>\n",
       "      <td>69500000.0</td>\n",
       "    </tr>\n",
       "    <tr>\n",
       "      <th>4</th>\n",
       "      <td>9</td>\n",
       "      <td>J. Oblak</td>\n",
       "      <td>25</td>\n",
       "      <td>europe</td>\n",
       "      <td>2021</td>\n",
       "      <td>GK</td>\n",
       "      <td>right</td>\n",
       "      <td>3.0</td>\n",
       "      <td>90</td>\n",
       "      <td>93</td>\n",
       "      <td>1.0</td>\n",
       "      <td>68000000.0</td>\n",
       "    </tr>\n",
       "    <tr>\n",
       "      <th>26</th>\n",
       "      <td>45</td>\n",
       "      <td>P. Pogba</td>\n",
       "      <td>25</td>\n",
       "      <td>europe</td>\n",
       "      <td>2021</td>\n",
       "      <td>MF</td>\n",
       "      <td>right</td>\n",
       "      <td>4.0</td>\n",
       "      <td>87</td>\n",
       "      <td>91</td>\n",
       "      <td>5.0</td>\n",
       "      <td>64000000.0</td>\n",
       "    </tr>\n",
       "    <tr>\n",
       "      <th>7</th>\n",
       "      <td>14</td>\n",
       "      <td>N. Kanté</td>\n",
       "      <td>27</td>\n",
       "      <td>europe</td>\n",
       "      <td>2023</td>\n",
       "      <td>MF</td>\n",
       "      <td>right</td>\n",
       "      <td>3.0</td>\n",
       "      <td>89</td>\n",
       "      <td>90</td>\n",
       "      <td>2.0</td>\n",
       "      <td>63000000.0</td>\n",
       "    </tr>\n",
       "    <tr>\n",
       "      <th>27</th>\n",
       "      <td>47</td>\n",
       "      <td>R. Lukaku</td>\n",
       "      <td>25</td>\n",
       "      <td>europe</td>\n",
       "      <td>2022</td>\n",
       "      <td>ST</td>\n",
       "      <td>left</td>\n",
       "      <td>3.0</td>\n",
       "      <td>87</td>\n",
       "      <td>89</td>\n",
       "      <td>3.0</td>\n",
       "      <td>62500000.0</td>\n",
       "    </tr>\n",
       "    <tr>\n",
       "      <th>16</th>\n",
       "      <td>29</td>\n",
       "      <td>L. Insigne</td>\n",
       "      <td>27</td>\n",
       "      <td>europe</td>\n",
       "      <td>2022</td>\n",
       "      <td>ST</td>\n",
       "      <td>right</td>\n",
       "      <td>3.0</td>\n",
       "      <td>88</td>\n",
       "      <td>88</td>\n",
       "      <td>4.0</td>\n",
       "      <td>62000000.0</td>\n",
       "    </tr>\n",
       "    <tr>\n",
       "      <th>11</th>\n",
       "      <td>21</td>\n",
       "      <td>E. Cavani</td>\n",
       "      <td>31</td>\n",
       "      <td>south america</td>\n",
       "      <td>2020</td>\n",
       "      <td>ST</td>\n",
       "      <td>right</td>\n",
       "      <td>4.0</td>\n",
       "      <td>89</td>\n",
       "      <td>89</td>\n",
       "      <td>3.0</td>\n",
       "      <td>60000000.0</td>\n",
       "    </tr>\n",
       "    <tr>\n",
       "      <th>6</th>\n",
       "      <td>13</td>\n",
       "      <td>David Silva</td>\n",
       "      <td>32</td>\n",
       "      <td>europe</td>\n",
       "      <td>2020</td>\n",
       "      <td>MF</td>\n",
       "      <td>left</td>\n",
       "      <td>4.0</td>\n",
       "      <td>90</td>\n",
       "      <td>90</td>\n",
       "      <td>4.0</td>\n",
       "      <td>60000000.0</td>\n",
       "    </tr>\n",
       "    <tr>\n",
       "      <th>15</th>\n",
       "      <td>27</td>\n",
       "      <td>Casemiro</td>\n",
       "      <td>26</td>\n",
       "      <td>south america</td>\n",
       "      <td>2021</td>\n",
       "      <td>MF</td>\n",
       "      <td>right</td>\n",
       "      <td>3.0</td>\n",
       "      <td>88</td>\n",
       "      <td>90</td>\n",
       "      <td>2.0</td>\n",
       "      <td>59500000.0</td>\n",
       "    </tr>\n",
       "    <tr>\n",
       "      <th>19</th>\n",
       "      <td>33</td>\n",
       "      <td>P. Aubameyang</td>\n",
       "      <td>29</td>\n",
       "      <td>africa</td>\n",
       "      <td>2021</td>\n",
       "      <td>MF</td>\n",
       "      <td>right</td>\n",
       "      <td>3.0</td>\n",
       "      <td>88</td>\n",
       "      <td>88</td>\n",
       "      <td>4.0</td>\n",
       "      <td>59000000.0</td>\n",
       "    </tr>\n",
       "    <tr>\n",
       "      <th>8</th>\n",
       "      <td>18</td>\n",
       "      <td>M. ter Stegen</td>\n",
       "      <td>26</td>\n",
       "      <td>europe</td>\n",
       "      <td>2022</td>\n",
       "      <td>GK</td>\n",
       "      <td>right</td>\n",
       "      <td>3.0</td>\n",
       "      <td>89</td>\n",
       "      <td>92</td>\n",
       "      <td>1.0</td>\n",
       "      <td>58000000.0</td>\n",
       "    </tr>\n",
       "    <tr>\n",
       "      <th>24</th>\n",
       "      <td>42</td>\n",
       "      <td>S. Umtiti</td>\n",
       "      <td>24</td>\n",
       "      <td>europe</td>\n",
       "      <td>2023</td>\n",
       "      <td>DF</td>\n",
       "      <td>left</td>\n",
       "      <td>3.0</td>\n",
       "      <td>87</td>\n",
       "      <td>92</td>\n",
       "      <td>2.0</td>\n",
       "      <td>57000000.0</td>\n",
       "    </tr>\n",
       "    <tr>\n",
       "      <th>22</th>\n",
       "      <td>38</td>\n",
       "      <td>G. Higuaín</td>\n",
       "      <td>30</td>\n",
       "      <td>south america</td>\n",
       "      <td>Jun 30, 2019</td>\n",
       "      <td>ST</td>\n",
       "      <td>right</td>\n",
       "      <td>4.0</td>\n",
       "      <td>88</td>\n",
       "      <td>88</td>\n",
       "      <td>3.0</td>\n",
       "      <td>57000000.0</td>\n",
       "    </tr>\n",
       "    <tr>\n",
       "      <th>35</th>\n",
       "      <td>63</td>\n",
       "      <td>M. Verratti</td>\n",
       "      <td>25</td>\n",
       "      <td>europe</td>\n",
       "      <td>2021</td>\n",
       "      <td>MF</td>\n",
       "      <td>right</td>\n",
       "      <td>3.0</td>\n",
       "      <td>86</td>\n",
       "      <td>89</td>\n",
       "      <td>4.0</td>\n",
       "      <td>55000000.0</td>\n",
       "    </tr>\n",
       "    <tr>\n",
       "      <th>46</th>\n",
       "      <td>79</td>\n",
       "      <td>Marco Asensio</td>\n",
       "      <td>22</td>\n",
       "      <td>europe</td>\n",
       "      <td>2023</td>\n",
       "      <td>ST</td>\n",
       "      <td>left</td>\n",
       "      <td>3.0</td>\n",
       "      <td>85</td>\n",
       "      <td>92</td>\n",
       "      <td>4.0</td>\n",
       "      <td>54000000.0</td>\n",
       "    </tr>\n",
       "    <tr>\n",
       "      <th>9</th>\n",
       "      <td>19</td>\n",
       "      <td>T. Courtois</td>\n",
       "      <td>26</td>\n",
       "      <td>europe</td>\n",
       "      <td>2024</td>\n",
       "      <td>GK</td>\n",
       "      <td>left</td>\n",
       "      <td>4.0</td>\n",
       "      <td>89</td>\n",
       "      <td>90</td>\n",
       "      <td>1.0</td>\n",
       "      <td>53500000.0</td>\n",
       "    </tr>\n",
       "    <tr>\n",
       "      <th>33</th>\n",
       "      <td>58</td>\n",
       "      <td>S. Mané</td>\n",
       "      <td>26</td>\n",
       "      <td>africa</td>\n",
       "      <td>2023</td>\n",
       "      <td>MF</td>\n",
       "      <td>right</td>\n",
       "      <td>3.0</td>\n",
       "      <td>86</td>\n",
       "      <td>87</td>\n",
       "      <td>4.0</td>\n",
       "      <td>52000000.0</td>\n",
       "    </tr>\n",
       "    <tr>\n",
       "      <th>10</th>\n",
       "      <td>20</td>\n",
       "      <td>Sergio Busquets</td>\n",
       "      <td>29</td>\n",
       "      <td>europe</td>\n",
       "      <td>2023</td>\n",
       "      <td>MF</td>\n",
       "      <td>right</td>\n",
       "      <td>4.0</td>\n",
       "      <td>89</td>\n",
       "      <td>89</td>\n",
       "      <td>3.0</td>\n",
       "      <td>51500000.0</td>\n",
       "    </tr>\n",
       "    <tr>\n",
       "      <th>25</th>\n",
       "      <td>44</td>\n",
       "      <td>K. Koulibaly</td>\n",
       "      <td>27</td>\n",
       "      <td>africa</td>\n",
       "      <td>2021</td>\n",
       "      <td>DF</td>\n",
       "      <td>right</td>\n",
       "      <td>3.0</td>\n",
       "      <td>87</td>\n",
       "      <td>90</td>\n",
       "      <td>2.0</td>\n",
       "      <td>51000000.0</td>\n",
       "    </tr>\n",
       "    <tr>\n",
       "      <th>3</th>\n",
       "      <td>8</td>\n",
       "      <td>Sergio Ramos</td>\n",
       "      <td>32</td>\n",
       "      <td>europe</td>\n",
       "      <td>2020</td>\n",
       "      <td>DF</td>\n",
       "      <td>right</td>\n",
       "      <td>4.0</td>\n",
       "      <td>91</td>\n",
       "      <td>91</td>\n",
       "      <td>3.0</td>\n",
       "      <td>51000000.0</td>\n",
       "    </tr>\n",
       "    <tr>\n",
       "      <th>48</th>\n",
       "      <td>83</td>\n",
       "      <td>Saúl</td>\n",
       "      <td>23</td>\n",
       "      <td>europe</td>\n",
       "      <td>2026</td>\n",
       "      <td>MF</td>\n",
       "      <td>left</td>\n",
       "      <td>3.0</td>\n",
       "      <td>85</td>\n",
       "      <td>90</td>\n",
       "      <td>3.0</td>\n",
       "      <td>50500000.0</td>\n",
       "    </tr>\n",
       "    <tr>\n",
       "      <th>45</th>\n",
       "      <td>78</td>\n",
       "      <td>S. Milinković-Savić</td>\n",
       "      <td>23</td>\n",
       "      <td>europe</td>\n",
       "      <td>2023</td>\n",
       "      <td>MF</td>\n",
       "      <td>right</td>\n",
       "      <td>2.0</td>\n",
       "      <td>85</td>\n",
       "      <td>90</td>\n",
       "      <td>4.0</td>\n",
       "      <td>50500000.0</td>\n",
       "    </tr>\n",
       "    <tr>\n",
       "      <th>31</th>\n",
       "      <td>53</td>\n",
       "      <td>I. Rakitić</td>\n",
       "      <td>30</td>\n",
       "      <td>europe</td>\n",
       "      <td>2021</td>\n",
       "      <td>MF</td>\n",
       "      <td>right</td>\n",
       "      <td>4.0</td>\n",
       "      <td>87</td>\n",
       "      <td>87</td>\n",
       "      <td>3.0</td>\n",
       "      <td>46500000.0</td>\n",
       "    </tr>\n",
       "    <tr>\n",
       "      <th>30</th>\n",
       "      <td>52</td>\n",
       "      <td>M. Hamšík</td>\n",
       "      <td>30</td>\n",
       "      <td>europe</td>\n",
       "      <td>2020</td>\n",
       "      <td>MF</td>\n",
       "      <td>right</td>\n",
       "      <td>3.0</td>\n",
       "      <td>87</td>\n",
       "      <td>87</td>\n",
       "      <td>3.0</td>\n",
       "      <td>46500000.0</td>\n",
       "    </tr>\n",
       "    <tr>\n",
       "      <th>37</th>\n",
       "      <td>65</td>\n",
       "      <td>Douglas Costa</td>\n",
       "      <td>27</td>\n",
       "      <td>south america</td>\n",
       "      <td>2022</td>\n",
       "      <td>MF</td>\n",
       "      <td>left</td>\n",
       "      <td>3.0</td>\n",
       "      <td>86</td>\n",
       "      <td>86</td>\n",
       "      <td>5.0</td>\n",
       "      <td>46500000.0</td>\n",
       "    </tr>\n",
       "  </tbody>\n",
       "</table>\n",
       "</div>"
      ],
      "text/plain": [
       "    id                 name  age      continent contract_until position  \\\n",
       "0    0             L. Messi   31  south america           2021       ST   \n",
       "2    7            L. Suárez   31  south america           2021       ST   \n",
       "17  30                 Isco   26         europe           2022       ST   \n",
       "1    3               De Gea   27         europe           2020       GK   \n",
       "14  26             M. Salah   26         africa           2023       MF   \n",
       "18  32             Coutinho   26  south america           2023       ST   \n",
       "4    9             J. Oblak   25         europe           2021       GK   \n",
       "26  45             P. Pogba   25         europe           2021       MF   \n",
       "7   14             N. Kanté   27         europe           2023       MF   \n",
       "27  47            R. Lukaku   25         europe           2022       ST   \n",
       "16  29           L. Insigne   27         europe           2022       ST   \n",
       "11  21            E. Cavani   31  south america           2020       ST   \n",
       "6   13          David Silva   32         europe           2020       MF   \n",
       "15  27             Casemiro   26  south america           2021       MF   \n",
       "19  33        P. Aubameyang   29         africa           2021       MF   \n",
       "8   18        M. ter Stegen   26         europe           2022       GK   \n",
       "24  42            S. Umtiti   24         europe           2023       DF   \n",
       "22  38           G. Higuaín   30  south america   Jun 30, 2019       ST   \n",
       "35  63          M. Verratti   25         europe           2021       MF   \n",
       "46  79        Marco Asensio   22         europe           2023       ST   \n",
       "9   19          T. Courtois   26         europe           2024       GK   \n",
       "33  58              S. Mané   26         africa           2023       MF   \n",
       "10  20      Sergio Busquets   29         europe           2023       MF   \n",
       "25  44         K. Koulibaly   27         africa           2021       DF   \n",
       "3    8         Sergio Ramos   32         europe           2020       DF   \n",
       "48  83                 Saúl   23         europe           2026       MF   \n",
       "45  78  S. Milinković-Savić   23         europe           2023       MF   \n",
       "31  53           I. Rakitić   30         europe           2021       MF   \n",
       "30  52            M. Hamšík   30         europe           2020       MF   \n",
       "37  65        Douglas Costa   27  south america           2022       MF   \n",
       "\n",
       "   prefer_foot  reputation  stat_overall  stat_potential  stat_skill_moves  \\\n",
       "0         left         5.0            94              94               4.0   \n",
       "2        right         5.0            91              91               3.0   \n",
       "17       right         3.0            88              91               4.0   \n",
       "1        right         4.0            91              93               1.0   \n",
       "14        left         3.0            88              89               4.0   \n",
       "18       right         3.0            88              89               5.0   \n",
       "4        right         3.0            90              93               1.0   \n",
       "26       right         4.0            87              91               5.0   \n",
       "7        right         3.0            89              90               2.0   \n",
       "27        left         3.0            87              89               3.0   \n",
       "16       right         3.0            88              88               4.0   \n",
       "11       right         4.0            89              89               3.0   \n",
       "6         left         4.0            90              90               4.0   \n",
       "15       right         3.0            88              90               2.0   \n",
       "19       right         3.0            88              88               4.0   \n",
       "8        right         3.0            89              92               1.0   \n",
       "24        left         3.0            87              92               2.0   \n",
       "22       right         4.0            88              88               3.0   \n",
       "35       right         3.0            86              89               4.0   \n",
       "46        left         3.0            85              92               4.0   \n",
       "9         left         4.0            89              90               1.0   \n",
       "33       right         3.0            86              87               4.0   \n",
       "10       right         4.0            89              89               3.0   \n",
       "25       right         3.0            87              90               2.0   \n",
       "3        right         4.0            91              91               3.0   \n",
       "48        left         3.0            85              90               3.0   \n",
       "45       right         2.0            85              90               4.0   \n",
       "31       right         4.0            87              87               3.0   \n",
       "30       right         3.0            87              87               3.0   \n",
       "37        left         3.0            86              86               5.0   \n",
       "\n",
       "          value  \n",
       "0   110500000.0  \n",
       "2    80000000.0  \n",
       "17   73500000.0  \n",
       "1    72000000.0  \n",
       "14   69500000.0  \n",
       "18   69500000.0  \n",
       "4    68000000.0  \n",
       "26   64000000.0  \n",
       "7    63000000.0  \n",
       "27   62500000.0  \n",
       "16   62000000.0  \n",
       "11   60000000.0  \n",
       "6    60000000.0  \n",
       "15   59500000.0  \n",
       "19   59000000.0  \n",
       "8    58000000.0  \n",
       "24   57000000.0  \n",
       "22   57000000.0  \n",
       "35   55000000.0  \n",
       "46   54000000.0  \n",
       "9    53500000.0  \n",
       "33   52000000.0  \n",
       "10   51500000.0  \n",
       "25   51000000.0  \n",
       "3    51000000.0  \n",
       "48   50500000.0  \n",
       "45   50500000.0  \n",
       "31   46500000.0  \n",
       "30   46500000.0  \n",
       "37   46500000.0  "
      ]
     },
     "execution_count": 44,
     "metadata": {},
     "output_type": "execute_result"
    }
   ],
   "source": [
    "# 비싼 친구들을 좀 볼까\n",
    "train.sort_values(by=\"value\", ascending=False)[:30]"
   ]
  },
  {
   "cell_type": "code",
   "execution_count": 45,
   "id": "ultimate-halloween",
   "metadata": {
    "scrolled": true
   },
   "outputs": [
    {
     "data": {
      "image/png": "[encoded data removed]",
      "text/plain": [
       "<Figure size 432x288 with 1 Axes>"
      ]
     },
     "metadata": {},
     "output_type": "display_data"
    },
    {
     "data": {
      "image/png": "[encoded data removed]",
      "text/plain": [
       "<Figure size 432x288 with 1 Axes>"
      ]
     },
     "metadata": {},
     "output_type": "display_data"
    },
    {
     "data": {
      "image/png": "[encoded data removed]",
      "text/plain": [
       "<Figure size 432x288 with 1 Axes>"
      ]
     },
     "metadata": {},
     "output_type": "display_data"
    },
    {
     "data": {
      "image/png": "[encoded data removed]",
      "text/plain": [
       "<Figure size 432x288 with 1 Axes>"
      ]
     },
     "metadata": {},
     "output_type": "display_data"
    }
   ],
   "source": [
    "# distribution\n",
    "cols = [\"age\",\"stat_overall\",\"stat_potential\",\"value\"]\n",
    "for col in cols:\n",
    "    sns.kdeplot(data=train, x=col)\n",
    "    plt.show()"
   ]
  },
  {
   "cell_type": "code",
   "execution_count": 46,
   "id": "convenient-angel",
   "metadata": {},
   "outputs": [
    {
     "data": {
      "image/png": "[encoded data removed]",
      "text/plain": [
       "<Figure size 432x288 with 1 Axes>"
      ]
     },
     "metadata": {},
     "output_type": "display_data"
    },
    {
     "data": {
      "image/png": "[encoded data removed]",
      "text/plain": [
       "<Figure size 432x288 with 1 Axes>"
      ]
     },
     "metadata": {},
     "output_type": "display_data"
    },
    {
     "data": {
      "image/png": "[encoded data removed]",
      "text/plain": [
       "<Figure size 432x288 with 1 Axes>"
      ]
     },
     "metadata": {},
     "output_type": "display_data"
    },
    {
     "data": {
      "image/png": "[encoded data removed]",
      "text/plain": [
       "<Figure size 432x288 with 1 Axes>"
      ]
     },
     "metadata": {},
     "output_type": "display_data"
    },
    {
     "data": {
      "image/png": "[encoded data removed]",
      "text/plain": [
       "<Figure size 432x288 with 1 Axes>"
      ]
     },
     "metadata": {},
     "output_type": "display_data"
    },
    {
     "data": {
      "image/png": "[encoded data removed]",
      "text/plain": [
       "<Figure size 432x288 with 1 Axes>"
      ]
     },
     "metadata": {},
     "output_type": "display_data"
    }
   ],
   "source": [
    "# countplot\n",
    "cols = [\"continent\",\"contract_until\",\"position\",\"prefer_foot\",\"reputation\",\"stat_skill_moves\"]\n",
    "for col in cols:\n",
    "    sns.countplot(train[col])\n",
    "    plt.xticks(rotation=45)\n",
    "    plt.show()"
   ]
  },
  {
   "cell_type": "code",
   "execution_count": 58,
   "id": "diagnostic-greene",
   "metadata": {},
   "outputs": [
    {
     "data": {
      "text/plain": [
       "reputation\n",
       "1.0     1690091.71449962561018764972686767578125\n",
       "2.0     8639220.96317280456423759460449218750000\n",
       "3.0    22014830.50847457721829414367675781250000\n",
       "4.0    33429032.25806451588869094848632812500000\n",
       "5.0    60625000.00000000000000000000000000000000\n",
       "Name: value, dtype: float64"
      ]
     },
     "execution_count": 58,
     "metadata": {},
     "output_type": "execute_result"
    }
   ],
   "source": [
    "pd.set_option(\"precision\", 100)\n",
    "train.groupby(\"reputation\")[\"value\"].mean()"
   ]
  },
  {
   "cell_type": "markdown",
   "id": "worst-swimming",
   "metadata": {},
   "source": [
    "### Preprocessing and Feature Engineering"
   ]
  },
  {
   "cell_type": "code",
   "execution_count": 47,
   "id": "unauthorized-glenn",
   "metadata": {},
   "outputs": [],
   "source": [
    "# contract_until의 날짜를 동일하게 만들어줌 \n",
    "# 년도만 남겨두고 삭제\n",
    "train['contract_until'] = train['contract_until'].map(lambda x : x[-4:])"
   ]
  },
  {
   "cell_type": "code",
   "execution_count": 48,
   "id": "orange-matter",
   "metadata": {},
   "outputs": [
    {
     "data": {
      "text/plain": [
       "array(['2021', '2020', '2019', '2023', '2022', '2024', '2026', '2018',\n",
       "       '2025'], dtype=object)"
      ]
     },
     "execution_count": 48,
     "metadata": {},
     "output_type": "execute_result"
    }
   ],
   "source": [
    "train['contract_until'].unique()"
   ]
  },
  {
   "cell_type": "code",
   "execution_count": 49,
   "id": "caroline-protection",
   "metadata": {},
   "outputs": [],
   "source": [
    "# 계약기간을 얼마나 남았는지로 변경\n",
    "train['contract_until'] = train['contract_until'].astype(np.int32)\n",
    "train['contract_until'] = train['contract_until'] - 2018"
   ]
  },
  {
   "cell_type": "code",
   "execution_count": 53,
   "id": "burning-leadership",
   "metadata": {},
   "outputs": [
    {
     "data": {
      "text/plain": [
       "<AxesSubplot:xlabel='contract_until', ylabel='count'>"
      ]
     },
     "execution_count": 53,
     "metadata": {},
     "output_type": "execute_result"
    },
    {
     "data": {
      "image/png": "[encoded data removed]",
      "text/plain": [
       "<Figure size 432x288 with 1 Axes>"
      ]
     },
     "metadata": {},
     "output_type": "display_data"
    }
   ],
   "source": [
    "sns.countplot(train[\"contract_until\"])"
   ]
  },
  {
   "cell_type": "code",
   "execution_count": 64,
   "id": "finnish-telephone",
   "metadata": {},
   "outputs": [],
   "source": [
    "train2 = train.copy()"
   ]
  },
  {
   "cell_type": "code",
   "execution_count": 60,
   "id": "conservative-cameroon",
   "metadata": {},
   "outputs": [
    {
     "data": {
      "text/html": [
       "<div>\n",
       "<style scoped>\n",
       "    .dataframe tbody tr th:only-of-type {\n",
       "        vertical-align: middle;\n",
       "    }\n",
       "\n",
       "    .dataframe tbody tr th {\n",
       "        vertical-align: top;\n",
       "    }\n",
       "\n",
       "    .dataframe thead th {\n",
       "        text-align: right;\n",
       "    }\n",
       "</style>\n",
       "<table border=\"1\" class=\"dataframe\">\n",
       "  <thead>\n",
       "    <tr style=\"text-align: right;\">\n",
       "      <th></th>\n",
       "      <th>id</th>\n",
       "      <th>name</th>\n",
       "      <th>age</th>\n",
       "      <th>continent</th>\n",
       "      <th>contract_until</th>\n",
       "      <th>position</th>\n",
       "      <th>prefer_foot</th>\n",
       "      <th>reputation</th>\n",
       "      <th>stat_overall</th>\n",
       "      <th>stat_potential</th>\n",
       "      <th>stat_skill_moves</th>\n",
       "      <th>value</th>\n",
       "    </tr>\n",
       "  </thead>\n",
       "  <tbody>\n",
       "    <tr>\n",
       "      <th>0</th>\n",
       "      <td>0</td>\n",
       "      <td>L. Messi</td>\n",
       "      <td>31</td>\n",
       "      <td>south america</td>\n",
       "      <td>3</td>\n",
       "      <td>ST</td>\n",
       "      <td>left</td>\n",
       "      <td>5.0</td>\n",
       "      <td>94</td>\n",
       "      <td>94</td>\n",
       "      <td>4.0</td>\n",
       "      <td>110500000.0</td>\n",
       "    </tr>\n",
       "  </tbody>\n",
       "</table>\n",
       "</div>"
      ],
      "text/plain": [
       "   id      name  age      continent  contract_until position prefer_foot  \\\n",
       "0   0  L. Messi   31  south america               3       ST        left   \n",
       "\n",
       "   reputation  stat_overall  stat_potential  stat_skill_moves        value  \n",
       "0         5.0            94              94               4.0  110500000.0  "
      ]
     },
     "execution_count": 60,
     "metadata": {},
     "output_type": "execute_result"
    }
   ],
   "source": [
    "train2.head(1)"
   ]
  },
  {
   "cell_type": "code",
   "execution_count": 65,
   "id": "particular-implementation",
   "metadata": {},
   "outputs": [],
   "source": [
    "# one-hot encoding\n",
    "train = pd.get_dummies(train, columns=[\"position\", \"prefer_foot\",\"continent\"])"
   ]
  },
  {
   "cell_type": "code",
   "execution_count": 69,
   "id": "herbal-bangkok",
   "metadata": {},
   "outputs": [],
   "source": [
    "# stat_overall - stat_potential => 성장 잠재력 수치\n",
    "train['stat_potent'] = train[\"stat_potential\"] - train['stat_overall'] "
   ]
  },
  {
   "cell_type": "code",
   "execution_count": 77,
   "id": "synthetic-motel",
   "metadata": {},
   "outputs": [],
   "source": [
    "# 축구선수 평균 은퇴나이 35세\n",
    "train[\"retire_age_left\"] = 35 - train['age']"
   ]
  },
  {
   "cell_type": "code",
   "execution_count": 79,
   "id": "appointed-conservative",
   "metadata": {},
   "outputs": [
    {
     "data": {
      "text/plain": [
       "-5"
      ]
     },
     "execution_count": 79,
     "metadata": {},
     "output_type": "execute_result"
    }
   ],
   "source": [
    "train['retire_age_left'].min()"
   ]
  },
  {
   "cell_type": "code",
   "execution_count": 67,
   "id": "covered-toolbox",
   "metadata": {},
   "outputs": [],
   "source": [
    "# value log씌우기\n",
    "train['value'] = np.log1p(train['value'])"
   ]
  },
  {
   "cell_type": "code",
   "execution_count": 81,
   "id": "bearing-campbell",
   "metadata": {},
   "outputs": [],
   "source": [
    "# name은 필요없음\n",
    "train.drop(\"name\", axis=1, inplace=True)"
   ]
  },
  {
   "cell_type": "code",
   "execution_count": null,
   "id": "editorial-layout",
   "metadata": {},
   "outputs": [],
   "source": [
    "# 모델에 넣으려면 test도 train과 같아야죵"
   ]
  },
  {
   "cell_type": "code",
   "execution_count": 82,
   "id": "caring-fraction",
   "metadata": {},
   "outputs": [
    {
     "data": {
      "text/html": [
       "<div>\n",
       "<style scoped>\n",
       "    .dataframe tbody tr th:only-of-type {\n",
       "        vertical-align: middle;\n",
       "    }\n",
       "\n",
       "    .dataframe tbody tr th {\n",
       "        vertical-align: top;\n",
       "    }\n",
       "\n",
       "    .dataframe thead th {\n",
       "        text-align: right;\n",
       "    }\n",
       "</style>\n",
       "<table border=\"1\" class=\"dataframe\">\n",
       "  <thead>\n",
       "    <tr style=\"text-align: right;\">\n",
       "      <th></th>\n",
       "      <th>id</th>\n",
       "      <th>name</th>\n",
       "      <th>age</th>\n",
       "      <th>continent</th>\n",
       "      <th>contract_until</th>\n",
       "      <th>position</th>\n",
       "      <th>prefer_foot</th>\n",
       "      <th>reputation</th>\n",
       "      <th>stat_overall</th>\n",
       "      <th>stat_potential</th>\n",
       "      <th>stat_skill_moves</th>\n",
       "    </tr>\n",
       "  </thead>\n",
       "  <tbody>\n",
       "    <tr>\n",
       "      <th>0</th>\n",
       "      <td>1</td>\n",
       "      <td>Cristiano Ronaldo</td>\n",
       "      <td>33</td>\n",
       "      <td>europe</td>\n",
       "      <td>2022</td>\n",
       "      <td>ST</td>\n",
       "      <td>right</td>\n",
       "      <td>5.0</td>\n",
       "      <td>94</td>\n",
       "      <td>94</td>\n",
       "      <td>5.0</td>\n",
       "    </tr>\n",
       "    <tr>\n",
       "      <th>1</th>\n",
       "      <td>2</td>\n",
       "      <td>Neymar Jr</td>\n",
       "      <td>26</td>\n",
       "      <td>south america</td>\n",
       "      <td>2022</td>\n",
       "      <td>ST</td>\n",
       "      <td>right</td>\n",
       "      <td>5.0</td>\n",
       "      <td>92</td>\n",
       "      <td>93</td>\n",
       "      <td>5.0</td>\n",
       "    </tr>\n",
       "    <tr>\n",
       "      <th>2</th>\n",
       "      <td>4</td>\n",
       "      <td>K. De Bruyne</td>\n",
       "      <td>27</td>\n",
       "      <td>europe</td>\n",
       "      <td>2023</td>\n",
       "      <td>MF</td>\n",
       "      <td>right</td>\n",
       "      <td>4.0</td>\n",
       "      <td>91</td>\n",
       "      <td>92</td>\n",
       "      <td>4.0</td>\n",
       "    </tr>\n",
       "    <tr>\n",
       "      <th>3</th>\n",
       "      <td>5</td>\n",
       "      <td>E. Hazard</td>\n",
       "      <td>27</td>\n",
       "      <td>europe</td>\n",
       "      <td>2020</td>\n",
       "      <td>ST</td>\n",
       "      <td>right</td>\n",
       "      <td>4.0</td>\n",
       "      <td>91</td>\n",
       "      <td>91</td>\n",
       "      <td>4.0</td>\n",
       "    </tr>\n",
       "    <tr>\n",
       "      <th>4</th>\n",
       "      <td>6</td>\n",
       "      <td>L. Modrić</td>\n",
       "      <td>32</td>\n",
       "      <td>europe</td>\n",
       "      <td>2020</td>\n",
       "      <td>MF</td>\n",
       "      <td>right</td>\n",
       "      <td>4.0</td>\n",
       "      <td>91</td>\n",
       "      <td>91</td>\n",
       "      <td>4.0</td>\n",
       "    </tr>\n",
       "  </tbody>\n",
       "</table>\n",
       "</div>"
      ],
      "text/plain": [
       "   id               name  age      continent contract_until position  \\\n",
       "0   1  Cristiano Ronaldo   33         europe           2022       ST   \n",
       "1   2          Neymar Jr   26  south america           2022       ST   \n",
       "2   4       K. De Bruyne   27         europe           2023       MF   \n",
       "3   5          E. Hazard   27         europe           2020       ST   \n",
       "4   6          L. Modrić   32         europe           2020       MF   \n",
       "\n",
       "  prefer_foot  reputation  stat_overall  stat_potential  stat_skill_moves  \n",
       "0       right         5.0            94              94               5.0  \n",
       "1       right         5.0            92              93               5.0  \n",
       "2       right         4.0            91              92               4.0  \n",
       "3       right         4.0            91              91               4.0  \n",
       "4       right         4.0            91              91               4.0  "
      ]
     },
     "execution_count": 82,
     "metadata": {},
     "output_type": "execute_result"
    }
   ],
   "source": [
    "test.head()"
   ]
  },
  {
   "cell_type": "code",
   "execution_count": 83,
   "id": "dressed-identification",
   "metadata": {},
   "outputs": [],
   "source": [
    "test['contract_until'] = test['contract_until'].map(lambda x : x[-4:])\n",
    "test['contract_until'] = test['contract_until'].astype(np.int32)\n",
    "test['contract_until'] = test['contract_until'] - 2018\n",
    "test = pd.get_dummies(test, columns=[\"position\", \"prefer_foot\",\"continent\"])\n",
    "test['stat_potent'] = test[\"stat_potential\"] - test['stat_overall']\n",
    "test[\"retire_age_left\"] = 35 - test['age']\n",
    "test.drop(\"name\", axis=1, inplace=True)"
   ]
  },
  {
   "cell_type": "code",
   "execution_count": 94,
   "id": "architectural-aluminum",
   "metadata": {},
   "outputs": [],
   "source": [
    "train.drop(\"id\", axis=1, inplace=True)\n",
    "test.drop(\"id\", axis=1, inplace=True)"
   ]
  },
  {
   "cell_type": "code",
   "execution_count": 95,
   "id": "loved-tamil",
   "metadata": {},
   "outputs": [
    {
     "data": {
      "text/plain": [
       "{'value'}"
      ]
     },
     "execution_count": 95,
     "metadata": {},
     "output_type": "execute_result"
    }
   ],
   "source": [
    "set(train.columns) - set(test.columns)"
   ]
  },
  {
   "cell_type": "code",
   "execution_count": 96,
   "id": "involved-destruction",
   "metadata": {},
   "outputs": [],
   "source": [
    "X_train = train.drop(\"value\", axis=1)\n",
    "y_train = train.value"
   ]
  },
  {
   "cell_type": "code",
   "execution_count": 97,
   "id": "cleared-cisco",
   "metadata": {},
   "outputs": [],
   "source": [
    "from sklearn.ensemble import RandomForestRegressor"
   ]
  },
  {
   "cell_type": "code",
   "execution_count": 98,
   "id": "disabled-transformation",
   "metadata": {},
   "outputs": [],
   "source": [
    "rf = RandomForestRegressor(n_estimators=300,random_state=130)"
   ]
  },
  {
   "cell_type": "code",
   "execution_count": 99,
   "id": "heard-october",
   "metadata": {},
   "outputs": [
    {
     "data": {
      "text/plain": [
       "RandomForestRegressor(n_estimators=300, random_state=130)"
      ]
     },
     "execution_count": 99,
     "metadata": {},
     "output_type": "execute_result"
    }
   ],
   "source": [
    "rf.fit(X_train, y_train)"
   ]
  },
  {
   "cell_type": "code",
   "execution_count": 100,
   "id": "thick-format",
   "metadata": {},
   "outputs": [],
   "source": [
    "pred = rf.predict(test)"
   ]
  },
  {
   "cell_type": "code",
   "execution_count": 102,
   "id": "minimal-lambda",
   "metadata": {},
   "outputs": [],
   "source": [
    "prediction = np.expm1(pred)"
   ]
  },
  {
   "cell_type": "code",
   "execution_count": 104,
   "id": "standard-skirt",
   "metadata": {},
   "outputs": [],
   "source": [
    "submission = pd.read_csv(\"./data/submission.csv\")"
   ]
  },
  {
   "cell_type": "code",
   "execution_count": 106,
   "id": "directed-dominant",
   "metadata": {},
   "outputs": [],
   "source": [
    "submission['value'] = prediction"
   ]
  },
  {
   "cell_type": "code",
   "execution_count": 137,
   "id": "capital-novel",
   "metadata": {},
   "outputs": [],
   "source": [
    "submission.to_csv(\"submission_1.csv\", index=False)"
   ]
  },
  {
   "cell_type": "code",
   "execution_count": 130,
   "id": "comparative-cameroon",
   "metadata": {},
   "outputs": [],
   "source": [
    "# train set 저장하는 방법들\n",
    "train.to_csv(\"./data/train_csv.csv\", index=False)\n",
    "train.to_pickle(\"./data/train_pickle.pkl\")\n",
    "train.to_feather(\"./data/train_feather.ftr\")"
   ]
  },
  {
   "cell_type": "code",
   "execution_count": 138,
   "id": "three-dollar",
   "metadata": {},
   "outputs": [],
   "source": [
    "# testset도 저장\n",
    "test.to_csv(\"./data/test_csv.csv\", index=False)"
   ]
  }
 ],
 "metadata": {
  "kernelspec": {
   "display_name": "Python 3",
   "language": "python",
   "name": "python3"
  },
  "language_info": {
   "codemirror_mode": {
    "name": "ipython",
    "version": 3
   },
   "file_extension": ".py",
   "mimetype": "text/x-python",
   "name": "python",
   "nbconvert_exporter": "python",
   "pygments_lexer": "ipython3",
   "version": "3.7.10"
  }
 },
 "nbformat": 4,
 "nbformat_minor": 5
}
