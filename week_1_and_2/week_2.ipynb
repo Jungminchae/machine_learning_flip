{
 "cells": [
  {
   "cell_type": "code",
   "execution_count": 37,
   "id": "proof-nickname",
   "metadata": {
    "scrolled": true
   },
   "outputs": [],
   "source": [
    "import os \n",
    "import pandas as pd\n",
    "import numpy as np \n",
    "from tqdm import tqdm"
   ]
  },
  {
   "cell_type": "code",
   "execution_count": 20,
   "id": "micro-hands",
   "metadata": {},
   "outputs": [],
   "source": [
    "from sklearn.model_selection import KFold, GridSearchCV\n",
    "from sklearn.metrics import mean_squared_error"
   ]
  },
  {
   "cell_type": "code",
   "execution_count": 10,
   "id": "yellow-embassy",
   "metadata": {},
   "outputs": [],
   "source": [
    "from sklearn.ensemble import RandomForestRegressor"
   ]
  },
  {
   "cell_type": "code",
   "execution_count": 3,
   "id": "liable-belarus",
   "metadata": {},
   "outputs": [
    {
     "data": {
      "text/plain": [
       "['test_csv.csv',\n",
       " 'train_csv.csv',\n",
       " 'submission_baseline_rf.csv',\n",
       " 'train_pickle.pkl',\n",
       " 'submission.csv',\n",
       " 'train_feather.ftr',\n",
       " 'FIFA_train.csv',\n",
       " 'FIFA_test.csv']"
      ]
     },
     "execution_count": 3,
     "metadata": {},
     "output_type": "execute_result"
    }
   ],
   "source": [
    "data_list = os.listdir(\"./data\")\n",
    "data_list"
   ]
  },
  {
   "cell_type": "code",
   "execution_count": 40,
   "id": "subsequent-flight",
   "metadata": {},
   "outputs": [],
   "source": [
    "data = pd.read_feather(\"./data/\"+data_list[5])\n",
    "test = pd.read_csv(\"./data/test_csv.csv\")"
   ]
  },
  {
   "cell_type": "code",
   "execution_count": 5,
   "id": "metallic-desperate",
   "metadata": {},
   "outputs": [
    {
     "data": {
      "text/html": [
       "<div>\n",
       "<style scoped>\n",
       "    .dataframe tbody tr th:only-of-type {\n",
       "        vertical-align: middle;\n",
       "    }\n",
       "\n",
       "    .dataframe tbody tr th {\n",
       "        vertical-align: top;\n",
       "    }\n",
       "\n",
       "    .dataframe thead th {\n",
       "        text-align: right;\n",
       "    }\n",
       "</style>\n",
       "<table border=\"1\" class=\"dataframe\">\n",
       "  <thead>\n",
       "    <tr style=\"text-align: right;\">\n",
       "      <th></th>\n",
       "      <th>age</th>\n",
       "      <th>contract_until</th>\n",
       "      <th>reputation</th>\n",
       "      <th>stat_overall</th>\n",
       "      <th>stat_potential</th>\n",
       "      <th>stat_skill_moves</th>\n",
       "      <th>value</th>\n",
       "      <th>position_DF</th>\n",
       "      <th>position_GK</th>\n",
       "      <th>position_MF</th>\n",
       "      <th>position_ST</th>\n",
       "      <th>prefer_foot_left</th>\n",
       "      <th>prefer_foot_right</th>\n",
       "      <th>continent_africa</th>\n",
       "      <th>continent_asia</th>\n",
       "      <th>continent_europe</th>\n",
       "      <th>continent_oceania</th>\n",
       "      <th>continent_south america</th>\n",
       "      <th>stat_potent</th>\n",
       "      <th>retire_age_left</th>\n",
       "    </tr>\n",
       "  </thead>\n",
       "  <tbody>\n",
       "    <tr>\n",
       "      <th>0</th>\n",
       "      <td>31</td>\n",
       "      <td>3</td>\n",
       "      <td>5.0</td>\n",
       "      <td>94</td>\n",
       "      <td>94</td>\n",
       "      <td>4.0</td>\n",
       "      <td>18.520526</td>\n",
       "      <td>0</td>\n",
       "      <td>0</td>\n",
       "      <td>0</td>\n",
       "      <td>1</td>\n",
       "      <td>1</td>\n",
       "      <td>0</td>\n",
       "      <td>0</td>\n",
       "      <td>0</td>\n",
       "      <td>0</td>\n",
       "      <td>0</td>\n",
       "      <td>1</td>\n",
       "      <td>0</td>\n",
       "      <td>4</td>\n",
       "    </tr>\n",
       "    <tr>\n",
       "      <th>1</th>\n",
       "      <td>27</td>\n",
       "      <td>2</td>\n",
       "      <td>4.0</td>\n",
       "      <td>91</td>\n",
       "      <td>93</td>\n",
       "      <td>1.0</td>\n",
       "      <td>18.092177</td>\n",
       "      <td>0</td>\n",
       "      <td>1</td>\n",
       "      <td>0</td>\n",
       "      <td>0</td>\n",
       "      <td>0</td>\n",
       "      <td>1</td>\n",
       "      <td>0</td>\n",
       "      <td>0</td>\n",
       "      <td>1</td>\n",
       "      <td>0</td>\n",
       "      <td>0</td>\n",
       "      <td>2</td>\n",
       "      <td>8</td>\n",
       "    </tr>\n",
       "    <tr>\n",
       "      <th>2</th>\n",
       "      <td>31</td>\n",
       "      <td>3</td>\n",
       "      <td>5.0</td>\n",
       "      <td>91</td>\n",
       "      <td>91</td>\n",
       "      <td>3.0</td>\n",
       "      <td>18.197537</td>\n",
       "      <td>0</td>\n",
       "      <td>0</td>\n",
       "      <td>0</td>\n",
       "      <td>1</td>\n",
       "      <td>0</td>\n",
       "      <td>1</td>\n",
       "      <td>0</td>\n",
       "      <td>0</td>\n",
       "      <td>0</td>\n",
       "      <td>0</td>\n",
       "      <td>1</td>\n",
       "      <td>0</td>\n",
       "      <td>4</td>\n",
       "    </tr>\n",
       "    <tr>\n",
       "      <th>3</th>\n",
       "      <td>32</td>\n",
       "      <td>2</td>\n",
       "      <td>4.0</td>\n",
       "      <td>91</td>\n",
       "      <td>91</td>\n",
       "      <td>3.0</td>\n",
       "      <td>17.747336</td>\n",
       "      <td>1</td>\n",
       "      <td>0</td>\n",
       "      <td>0</td>\n",
       "      <td>0</td>\n",
       "      <td>0</td>\n",
       "      <td>1</td>\n",
       "      <td>0</td>\n",
       "      <td>0</td>\n",
       "      <td>1</td>\n",
       "      <td>0</td>\n",
       "      <td>0</td>\n",
       "      <td>0</td>\n",
       "      <td>3</td>\n",
       "    </tr>\n",
       "    <tr>\n",
       "      <th>4</th>\n",
       "      <td>25</td>\n",
       "      <td>3</td>\n",
       "      <td>3.0</td>\n",
       "      <td>90</td>\n",
       "      <td>93</td>\n",
       "      <td>1.0</td>\n",
       "      <td>18.035018</td>\n",
       "      <td>0</td>\n",
       "      <td>1</td>\n",
       "      <td>0</td>\n",
       "      <td>0</td>\n",
       "      <td>0</td>\n",
       "      <td>1</td>\n",
       "      <td>0</td>\n",
       "      <td>0</td>\n",
       "      <td>1</td>\n",
       "      <td>0</td>\n",
       "      <td>0</td>\n",
       "      <td>3</td>\n",
       "      <td>10</td>\n",
       "    </tr>\n",
       "  </tbody>\n",
       "</table>\n",
       "</div>"
      ],
      "text/plain": [
       "   age  contract_until  reputation  stat_overall  stat_potential  \\\n",
       "0   31               3         5.0            94              94   \n",
       "1   27               2         4.0            91              93   \n",
       "2   31               3         5.0            91              91   \n",
       "3   32               2         4.0            91              91   \n",
       "4   25               3         3.0            90              93   \n",
       "\n",
       "   stat_skill_moves      value  position_DF  position_GK  position_MF  \\\n",
       "0               4.0  18.520526            0            0            0   \n",
       "1               1.0  18.092177            0            1            0   \n",
       "2               3.0  18.197537            0            0            0   \n",
       "3               3.0  17.747336            1            0            0   \n",
       "4               1.0  18.035018            0            1            0   \n",
       "\n",
       "   position_ST  prefer_foot_left  prefer_foot_right  continent_africa  \\\n",
       "0            1                 1                  0                 0   \n",
       "1            0                 0                  1                 0   \n",
       "2            1                 0                  1                 0   \n",
       "3            0                 0                  1                 0   \n",
       "4            0                 0                  1                 0   \n",
       "\n",
       "   continent_asia  continent_europe  continent_oceania  \\\n",
       "0               0                 0                  0   \n",
       "1               0                 1                  0   \n",
       "2               0                 0                  0   \n",
       "3               0                 1                  0   \n",
       "4               0                 1                  0   \n",
       "\n",
       "   continent_south america  stat_potent  retire_age_left  \n",
       "0                        1            0                4  \n",
       "1                        0            2                8  \n",
       "2                        1            0                4  \n",
       "3                        0            0                3  \n",
       "4                        0            3               10  "
      ]
     },
     "execution_count": 5,
     "metadata": {},
     "output_type": "execute_result"
    }
   ],
   "source": [
    "data.head()"
   ]
  },
  {
   "cell_type": "code",
   "execution_count": 7,
   "id": "human-delight",
   "metadata": {},
   "outputs": [
    {
     "data": {
      "text/plain": [
       "(8932, 20)"
      ]
     },
     "execution_count": 7,
     "metadata": {},
     "output_type": "execute_result"
    }
   ],
   "source": [
    "data.shape"
   ]
  },
  {
   "cell_type": "code",
   "execution_count": 8,
   "id": "accessory-olympus",
   "metadata": {},
   "outputs": [],
   "source": [
    "X_train = data.drop(\"value\", axis=1)\n",
    "y_train = data.value"
   ]
  },
  {
   "cell_type": "code",
   "execution_count": 18,
   "id": "seven-locator",
   "metadata": {},
   "outputs": [],
   "source": [
    "kfold = KFold(n_splits=7, random_state=130, shuffle=True)"
   ]
  },
  {
   "cell_type": "code",
   "execution_count": 19,
   "id": "frequent-florida",
   "metadata": {},
   "outputs": [
    {
     "name": "stdout",
     "output_type": "stream",
     "text": [
      "1번 rmse : 6419072.381470054\n",
      "2번 rmse : 5616388.309182598\n",
      "3번 rmse : 5743746.892809601\n",
      "4번 rmse : 6492984.316564658\n",
      "5번 rmse : 6078373.124192117\n",
      "6번 rmse : 6807325.622215642\n",
      "7번 rmse : 6492402.594953468\n"
     ]
    }
   ],
   "source": [
    "for i, (t, v) in enumerate(kfold.split(data)):\n",
    "    \n",
    "    train = data.iloc[t]\n",
    "    val = data.iloc[v]\n",
    "    \n",
    "    x_tr = train.drop(\"value\", axis=1)\n",
    "    y_tr = train.value\n",
    "    \n",
    "    x_val = val.drop(\"value\", axis=1)\n",
    "    y_val = val.value\n",
    "    \n",
    "    rf = RandomForestRegressor(n_estimators=300, random_state=130)\n",
    "    rf.fit(x_tr, y_tr)\n",
    "    \n",
    "    pred = rf.predict(x_val)\n",
    "    pred = np.expm1(pred)\n",
    "    \n",
    "    mse = mean_squared_error(y_val, pred)\n",
    "    rmse = np.sqrt(mse)\n",
    "    \n",
    "    print(f\"{i+1}번 rmse : {rmse}\")\n",
    "    "
   ]
  },
  {
   "cell_type": "code",
   "execution_count": 21,
   "id": "paperback-manor",
   "metadata": {},
   "outputs": [],
   "source": [
    "rf = RandomForestRegressor()\n",
    "params = {\n",
    "    'n_estimators' : [300, 400, 500],\n",
    "    'min_samples_split' : [2,3,4],\n",
    "    'min_samples_leaf' : [1,2,3]\n",
    "}"
   ]
  },
  {
   "cell_type": "code",
   "execution_count": 28,
   "id": "important-sister",
   "metadata": {},
   "outputs": [],
   "source": [
    "kfold = KFold(n_splits=3, random_state=130, shuffle=True)"
   ]
  },
  {
   "cell_type": "code",
   "execution_count": 29,
   "id": "local-manitoba",
   "metadata": {},
   "outputs": [],
   "source": [
    "grid = GridSearchCV(rf, param_grid=params, cv = kfold, scoring=\"neg_mean_squared_error\", verbose=2 ,n_jobs=-1)"
   ]
  },
  {
   "cell_type": "code",
   "execution_count": 30,
   "id": "periodic-silicon",
   "metadata": {
    "scrolled": true
   },
   "outputs": [
    {
     "name": "stdout",
     "output_type": "stream",
     "text": [
      "Fitting 3 folds for each of 27 candidates, totalling 81 fits\n"
     ]
    },
    {
     "data": {
      "text/plain": [
       "GridSearchCV(cv=KFold(n_splits=3, random_state=130, shuffle=True),\n",
       "             estimator=RandomForestRegressor(), n_jobs=-1,\n",
       "             param_grid={'min_samples_leaf': [1, 2, 3],\n",
       "                         'min_samples_split': [2, 3, 4],\n",
       "                         'n_estimators': [300, 400, 500]},\n",
       "             scoring='neg_mean_squared_error', verbose=2)"
      ]
     },
     "execution_count": 30,
     "metadata": {},
     "output_type": "execute_result"
    }
   ],
   "source": [
    "grid.fit(X_train, y_train)"
   ]
  },
  {
   "cell_type": "code",
   "execution_count": 31,
   "id": "compound-basic",
   "metadata": {},
   "outputs": [
    {
     "name": "stdout",
     "output_type": "stream",
     "text": [
      "{'min_samples_leaf': 1, 'min_samples_split': 2, 'n_estimators': 500}\n"
     ]
    }
   ],
   "source": [
    "print(grid.best_params_)"
   ]
  },
  {
   "cell_type": "code",
   "execution_count": 32,
   "id": "responsible-compatibility",
   "metadata": {},
   "outputs": [
    {
     "name": "stdout",
     "output_type": "stream",
     "text": [
      "RandomForestRegressor(n_estimators=500)\n"
     ]
    }
   ],
   "source": [
    "print(grid.best_estimator_)"
   ]
  },
  {
   "cell_type": "code",
   "execution_count": 33,
   "id": "increasing-hands",
   "metadata": {},
   "outputs": [
    {
     "name": "stdout",
     "output_type": "stream",
     "text": [
      "-0.009175689420706954\n"
     ]
    }
   ],
   "source": [
    "print(grid.best_score_)"
   ]
  },
  {
   "cell_type": "code",
   "execution_count": 41,
   "id": "other-arena",
   "metadata": {},
   "outputs": [
    {
     "name": "stderr",
     "output_type": "stream",
     "text": [
      "100%|██████████| 10/10 [01:33<00:00,  9.30s/it]\n"
     ]
    }
   ],
   "source": [
    "prediction_list = []\n",
    "for _ in tqdm(range(10)):\n",
    "    data_index = [ idx for idx in range(X_train.shape[0])]\n",
    "    random_index = np.random.choice(data_index, X_train.shape[0]) # 복원추출\n",
    "    rf = RandomForestRegressor(**grid.best_params_)\n",
    "    rf.fit(X_train.iloc[random_index, ], y_train.iloc[random_index,])\n",
    "    pred = rf.predict(test)\n",
    "    pred = np.expm1(pred)\n",
    "    prediction_list.append(pred)"
   ]
  },
  {
   "cell_type": "code",
   "execution_count": 42,
   "id": "regional-couple",
   "metadata": {},
   "outputs": [],
   "source": [
    "prediction = [] # 예측 값 리스트\n",
    "for idx2 in range(test.shape[0]): # test의 index 만큼 iteration\n",
    "    temp = []\n",
    "    # 각 array line by line 으로 평균 내어 prediction에 저장\n",
    "    for idx in range(len(prediction_list)): \n",
    "        temp.append(prediction_list[idx][idx2])\n",
    "    prediction.append(np.mean(temp))"
   ]
  },
  {
   "cell_type": "code",
   "execution_count": 44,
   "id": "structured-notice",
   "metadata": {},
   "outputs": [],
   "source": [
    "# prediction"
   ]
  },
  {
   "cell_type": "code",
   "execution_count": null,
   "id": "expanded-sword",
   "metadata": {},
   "outputs": [],
   "source": []
  }
 ],
 "metadata": {
  "kernelspec": {
   "display_name": "Python 3",
   "language": "python",
   "name": "python3"
  },
  "language_info": {
   "codemirror_mode": {
    "name": "ipython",
    "version": 3
   },
   "file_extension": ".py",
   "mimetype": "text/x-python",
   "name": "python",
   "nbconvert_exporter": "python",
   "pygments_lexer": "ipython3",
   "version": "3.7.10"
  }
 },
 "nbformat": 4,
 "nbformat_minor": 5
}
