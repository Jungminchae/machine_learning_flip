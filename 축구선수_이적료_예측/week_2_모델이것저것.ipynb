{
 "cells": [
  {
   "cell_type": "code",
   "execution_count": 1,
   "id": "legislative-builder",
   "metadata": {},
   "outputs": [],
   "source": [
    "# 라이브러리\n",
    "import os\n",
    "import warnings\n",
    "from tqdm import tqdm\n",
    "\n",
    "import pandas as pd \n",
    "import numpy as np \n",
    "\n",
    "from sklearn.model_selection import (\n",
    "    KFold, StratifiedKFold, GridSearchCV, RandomizedSearchCV, RepeatedKFold\n",
    ")\n",
    "from sklearn.metrics import mean_squared_error\n",
    "from sklearn.ensemble import (\n",
    "    BaggingRegressor, RandomForestRegressor, AdaBoostRegressor,GradientBoostingRegressor,\n",
    ")\n",
    "\n",
    "warnings.filterwarnings(\"ignore\")"
   ]
  },
  {
   "cell_type": "code",
   "execution_count": 2,
   "id": "faced-workstation",
   "metadata": {},
   "outputs": [
    {
     "data": {
      "text/plain": [
       "['test_csv.csv',\n",
       " 'train_csv.csv',\n",
       " 'submission_baseline_rf.csv',\n",
       " 'train_pickle.pkl',\n",
       " 'submission.csv',\n",
       " 'train_feather.ftr',\n",
       " 'FIFA_train.csv',\n",
       " 'FIFA_test.csv']"
      ]
     },
     "execution_count": 2,
     "metadata": {},
     "output_type": "execute_result"
    }
   ],
   "source": [
    "data_list = os.listdir(\"./data\")\n",
    "data_list"
   ]
  },
  {
   "cell_type": "code",
   "execution_count": 3,
   "id": "allied-secretariat",
   "metadata": {},
   "outputs": [],
   "source": [
    "train = pd.read_feather(\"./data/\" + data_list[5])\n",
    "test = pd.read_csv(\"./data/\" + data_list[0])"
   ]
  },
  {
   "cell_type": "code",
   "execution_count": 5,
   "id": "short-penguin",
   "metadata": {},
   "outputs": [],
   "source": [
    "# 데이터 x,y 분리\n",
    "X_train = train.drop(\"value\", axis=1)\n",
    "y_train = train[\"value\"]"
   ]
  },
  {
   "cell_type": "code",
   "execution_count": 7,
   "id": "forbidden-stanley",
   "metadata": {},
   "outputs": [],
   "source": [
    "# kfold\n",
    "kfold = KFold(n_splits=7, shuffle=True, random_state=120)"
   ]
  },
  {
   "cell_type": "code",
   "execution_count": 8,
   "id": "refined-danish",
   "metadata": {},
   "outputs": [],
   "source": [
    "# 분류에서 사용, \n",
    "# stratifiedkfold = StratifiedKFold()"
   ]
  },
  {
   "cell_type": "code",
   "execution_count": 9,
   "id": "given-livestock",
   "metadata": {},
   "outputs": [
    {
     "name": "stdout",
     "output_type": "stream",
     "text": [
      "1번 모델 rmse : 652619.7678497384\n",
      "2번 모델 rmse : 621248.5911461753\n",
      "3번 모델 rmse : 807486.4278201144\n",
      "4번 모델 rmse : 452149.50608568726\n",
      "5번 모델 rmse : 605271.4165033385\n",
      "6번 모델 rmse : 871532.9223647178\n",
      "7번 모델 rmse : 1449844.0548208528\n"
     ]
    }
   ],
   "source": [
    "for i, (t, v) in enumerate(kfold.split(train)):\n",
    "    \n",
    "    # train, val 분리\n",
    "    trn = train.iloc[t]\n",
    "    val = train.iloc[v]\n",
    "    \n",
    "    # x, y 분리\n",
    "    x_tr = trn.drop(\"value\", axis=1)\n",
    "    y_tr = trn[\"value\"]\n",
    "    \n",
    "    x_val = val.drop(\"value\", axis=1)\n",
    "    y_val = val[\"value\"]\n",
    "    \n",
    "    # 모델 학습\n",
    "    rf = RandomForestRegressor(n_estimators=300, random_state=130)\n",
    "    rf.fit(x_tr, y_tr)\n",
    "    \n",
    "    # 예측\n",
    "    pred = rf.predict(x_val)\n",
    "    pred = np.expm1(pred)\n",
    "    \n",
    "    y_val = np.expm1(y_val)\n",
    "    \n",
    "    # rmse\n",
    "    mse = mean_squared_error(y_val, pred)\n",
    "    rmse = np.sqrt(mse)\n",
    "    \n",
    "    print(f\"{i+1}번 모델 rmse : {rmse}\")"
   ]
  },
  {
   "cell_type": "code",
   "execution_count": 11,
   "id": "cellular-liberia",
   "metadata": {},
   "outputs": [],
   "source": [
    "# GridSearch\n",
    "rf = RandomForestRegressor(random_state=120)"
   ]
  },
  {
   "cell_type": "code",
   "execution_count": 12,
   "id": "focal-somewhere",
   "metadata": {},
   "outputs": [],
   "source": [
    "# parameters\n",
    "params = {\n",
    "    \"n_estimators\" : [300, 400, 500],\n",
    "    \"min_samples_split\" : [2,3,4],\n",
    "    \"min_samples_leaf\" : [1,2,3]\n",
    "}"
   ]
  },
  {
   "cell_type": "code",
   "execution_count": 14,
   "id": "noted-disney",
   "metadata": {},
   "outputs": [],
   "source": [
    "cv = KFold(n_splits=3, shuffle=True, random_state=120)"
   ]
  },
  {
   "cell_type": "code",
   "execution_count": 15,
   "id": "surprising-recruitment",
   "metadata": {},
   "outputs": [],
   "source": [
    "grid = GridSearchCV(\n",
    "                    rf, \n",
    "                    param_grid=params,\n",
    "                    cv=cv, \n",
    "                    scoring=\"neg_mean_squared_error\", \n",
    "                    verbose=2,\n",
    "                    n_jobs=-1\n",
    "                   )"
   ]
  },
  {
   "cell_type": "code",
   "execution_count": 16,
   "id": "regulated-walter",
   "metadata": {},
   "outputs": [
    {
     "name": "stdout",
     "output_type": "stream",
     "text": [
      "Fitting 3 folds for each of 27 candidates, totalling 81 fits\n"
     ]
    },
    {
     "data": {
      "text/plain": [
       "GridSearchCV(cv=KFold(n_splits=3, random_state=120, shuffle=True),\n",
       "             estimator=RandomForestRegressor(random_state=120), n_jobs=-1,\n",
       "             param_grid={'min_samples_leaf': [1, 2, 3],\n",
       "                         'min_samples_split': [2, 3, 4],\n",
       "                         'n_estimators': [300, 400, 500]},\n",
       "             scoring='neg_mean_squared_error', verbose=2)"
      ]
     },
     "execution_count": 16,
     "metadata": {},
     "output_type": "execute_result"
    }
   ],
   "source": [
    "grid.fit(X_train, y_train)"
   ]
  },
  {
   "cell_type": "code",
   "execution_count": 17,
   "id": "professional-rouge",
   "metadata": {},
   "outputs": [
    {
     "name": "stdout",
     "output_type": "stream",
     "text": [
      "{'min_samples_leaf': 1, 'min_samples_split': 3, 'n_estimators': 400}\n",
      "RandomForestRegressor(min_samples_split=3, n_estimators=400, random_state=120)\n",
      "-0.008861072314858711\n",
      "4\n"
     ]
    }
   ],
   "source": [
    "# Gridsearch 결과 확인\n",
    "print(grid.best_params_)\n",
    "print(grid.best_estimator_)\n",
    "print(grid.best_score_)\n",
    "print(grid.best_index_)"
   ]
  },
  {
   "cell_type": "code",
   "execution_count": 18,
   "id": "stopped-prayer",
   "metadata": {},
   "outputs": [
    {
     "data": {
      "text/plain": [
       "RandomForestRegressor(min_samples_split=3, n_estimators=400)"
      ]
     },
     "execution_count": 18,
     "metadata": {},
     "output_type": "execute_result"
    }
   ],
   "source": [
    "RandomForestRegressor(**grid.best_params_)"
   ]
  },
  {
   "cell_type": "code",
   "execution_count": 19,
   "id": "central-visit",
   "metadata": {},
   "outputs": [
    {
     "data": {
      "text/plain": [
       "RandomForestRegressor(min_samples_split=3, n_estimators=400, random_state=120)"
      ]
     },
     "execution_count": 19,
     "metadata": {},
     "output_type": "execute_result"
    }
   ],
   "source": [
    "# 서치 결과 가장 좋은 estimator로 학습\n",
    "grid.best_estimator_.fit(X_train, y_train)"
   ]
  },
  {
   "cell_type": "code",
   "execution_count": 20,
   "id": "moved-conservative",
   "metadata": {},
   "outputs": [
    {
     "data": {
      "text/plain": [
       "array([17.69301494, 18.1707276 , 18.02255398, ..., 10.96385975,\n",
       "       10.74102437, 10.85496397])"
      ]
     },
     "execution_count": 20,
     "metadata": {},
     "output_type": "execute_result"
    }
   ],
   "source": [
    "# 학습 후 예측\n",
    "grid.best_estimator_.predict(test)"
   ]
  },
  {
   "cell_type": "code",
   "execution_count": 21,
   "id": "extreme-freeze",
   "metadata": {},
   "outputs": [],
   "source": [
    "# RandomSearch\n",
    "rf = RandomForestRegressor(random_state=130)"
   ]
  },
  {
   "cell_type": "code",
   "execution_count": 22,
   "id": "outdoor-transaction",
   "metadata": {},
   "outputs": [],
   "source": [
    "from scipy.stats import randint, uniform, loguniform"
   ]
  },
  {
   "cell_type": "code",
   "execution_count": 24,
   "id": "complimentary-poker",
   "metadata": {},
   "outputs": [],
   "source": [
    "params = {\n",
    "    \"n_estimators\" : randint(100, 600) ,\n",
    "    \"min_samples_split\" : randint(1,8),\n",
    "    \"min_samples_leaf\" : randint(1,5)\n",
    "}"
   ]
  },
  {
   "cell_type": "code",
   "execution_count": 25,
   "id": "solid-tablet",
   "metadata": {},
   "outputs": [],
   "source": [
    "# RepeatedKFold : KFrold를 반복해서 실행, n_repeats\n",
    "cv = RepeatedKFold(n_splits=3, random_state=120, n_repeats=3)"
   ]
  },
  {
   "cell_type": "code",
   "execution_count": 26,
   "id": "wired-rhythm",
   "metadata": {},
   "outputs": [],
   "source": [
    "random_search = RandomizedSearchCV(\n",
    "                rf,\n",
    "                param_distributions=params,\n",
    "                cv = cv,\n",
    "                n_iter=20,\n",
    "                scoring=\"neg_mean_squared_error\",\n",
    "                verbose=1,\n",
    "                n_jobs=-1\n",
    ")"
   ]
  },
  {
   "cell_type": "code",
   "execution_count": 27,
   "id": "framed-explorer",
   "metadata": {},
   "outputs": [
    {
     "name": "stdout",
     "output_type": "stream",
     "text": [
      "Fitting 9 folds for each of 20 candidates, totalling 180 fits\n"
     ]
    },
    {
     "data": {
      "text/plain": [
       "RandomizedSearchCV(cv=RepeatedKFold(n_repeats=3, n_splits=3, random_state=120),\n",
       "                   estimator=RandomForestRegressor(random_state=130), n_iter=20,\n",
       "                   n_jobs=-1,\n",
       "                   param_distributions={'min_samples_leaf': <scipy.stats._distn_infrastructure.rv_frozen object at 0x7fb92c018c10>,\n",
       "                                        'min_samples_split': <scipy.stats._distn_infrastructure.rv_frozen object at 0x7fb95388ef10>,\n",
       "                                        'n_estimators': <scipy.stats._distn_infrastructure.rv_frozen object at 0x7fb92c03de10>},\n",
       "                   scoring='neg_mean_squared_error', verbose=1)"
      ]
     },
     "execution_count": 27,
     "metadata": {},
     "output_type": "execute_result"
    }
   ],
   "source": [
    "random_search.fit(X_train, y_train)"
   ]
  },
  {
   "cell_type": "code",
   "execution_count": 32,
   "id": "published-disability",
   "metadata": {
    "scrolled": true
   },
   "outputs": [
    {
     "name": "stdout",
     "output_type": "stream",
     "text": [
      "RandomForestRegressor(n_estimators=427, random_state=130)\n",
      "{'min_samples_leaf': 1, 'min_samples_split': 2, 'n_estimators': 427}\n",
      "4\n",
      "-0.0093443305564786\n"
     ]
    }
   ],
   "source": [
    "print(random_search.best_estimator_)\n",
    "print(random_search.best_params_)\n",
    "print(random_search.best_index_)\n",
    "print(random_search.best_score_)"
   ]
  },
  {
   "cell_type": "code",
   "execution_count": 33,
   "id": "threatened-syracuse",
   "metadata": {},
   "outputs": [],
   "source": [
    "# 모델 앙상블 \n",
    "rf_1 = grid.best_estimator_\n",
    "rf_2 = random_search.best_estimator_"
   ]
  },
  {
   "cell_type": "code",
   "execution_count": 34,
   "id": "grand-moldova",
   "metadata": {},
   "outputs": [
    {
     "data": {
      "text/plain": [
       "RandomForestRegressor(n_estimators=427, random_state=130)"
      ]
     },
     "execution_count": 34,
     "metadata": {},
     "output_type": "execute_result"
    }
   ],
   "source": [
    "rf_1.fit(X_train, y_train)\n",
    "rf_2.fit(X_train, y_train)"
   ]
  },
  {
   "cell_type": "code",
   "execution_count": 35,
   "id": "appreciated-sector",
   "metadata": {},
   "outputs": [],
   "source": [
    "pred_1 = rf_1.predict(test)\n",
    "pred_2 = rf_2.predict(test)"
   ]
  },
  {
   "cell_type": "code",
   "execution_count": 38,
   "id": "handmade-prize",
   "metadata": {},
   "outputs": [
    {
     "data": {
      "text/plain": [
       "array([17.70216861, 18.16888124, 18.02009815, ..., 10.96014314,\n",
       "       10.73967529, 10.85261511])"
      ]
     },
     "execution_count": 38,
     "metadata": {},
     "output_type": "execute_result"
    }
   ],
   "source": [
    "pred = (pred_1 * 0.5) + (pred_2 * 0.5)\n",
    "pred"
   ]
  },
  {
   "cell_type": "code",
   "execution_count": 43,
   "id": "activated-winter",
   "metadata": {},
   "outputs": [],
   "source": [
    "np.random.seed(123)"
   ]
  },
  {
   "cell_type": "code",
   "execution_count": 44,
   "id": "blocked-madagascar",
   "metadata": {},
   "outputs": [
    {
     "name": "stderr",
     "output_type": "stream",
     "text": [
      "100%|██████████| 10/10 [01:22<00:00,  8.21s/it]\n"
     ]
    }
   ],
   "source": [
    "# 앙상블 모델에 + bagging\n",
    "prediction_list = [] # 예측값을 저장할 리스트\n",
    "for _ in tqdm(range(10)):\n",
    "    # data_index = X_train.index\n",
    "    data_index = [ idx for idx in range(X_train.shape[0]) ] # X_train 길이만큼 index를 저장\n",
    "    random_index = np.random.choice(data_index, X_train.shape[0], replace=True) # 인덱스 복원추출\n",
    "    \n",
    "    rf = RandomForestRegressor(**random_search.best_params_) # search하여 찾은 하이퍼파라미터를 넣어줌\n",
    "    rf.fit(X_train.iloc[random_index, ], y_train.iloc[random_index, ]) # 모델 학습\n",
    "    \n",
    "    pred = rf.predict(test)\n",
    "    pred = np.expm1(pred)\n",
    "    \n",
    "    prediction_list.append(pred)"
   ]
  },
  {
   "cell_type": "code",
   "execution_count": 47,
   "id": "athletic-efficiency",
   "metadata": {},
   "outputs": [],
   "source": [
    "prediction = []\n",
    "\n",
    "for idx2 in range(test.shape[0]):\n",
    "    \n",
    "    temp = []\n",
    "    # 각 array line by line 으로 평균을 내어 prediction에 저장\n",
    "    for idx in range(len(prediction_list)):\n",
    "        temp.append(prediction_list[idx][idx2])\n",
    "    prediction.append(np.mean(temp))"
   ]
  },
  {
   "cell_type": "code",
   "execution_count": 53,
   "id": "useful-galaxy",
   "metadata": {},
   "outputs": [
    {
     "data": {
      "text/plain": [
       "35986911.38283238"
      ]
     },
     "execution_count": 53,
     "metadata": {},
     "output_type": "execute_result"
    }
   ],
   "source": [
    "prediction_list[0][0]"
   ]
  },
  {
   "cell_type": "code",
   "execution_count": 54,
   "id": "stuck-hawaiian",
   "metadata": {},
   "outputs": [
    {
     "data": {
      "text/plain": [
       "88984489.75434314"
      ]
     },
     "execution_count": 54,
     "metadata": {},
     "output_type": "execute_result"
    }
   ],
   "source": [
    "prediction_list[1][0]"
   ]
  },
  {
   "cell_type": "code",
   "execution_count": 56,
   "id": "governmental-council",
   "metadata": {},
   "outputs": [],
   "source": [
    "df = pd.DataFrame({\n",
    "    \"p0\" : prediction_list[0],\n",
    "    \"p1\" : prediction_list[1],\n",
    "    \"p2\" : prediction_list[2],\n",
    "    \"p3\" : prediction_list[3],\n",
    "    \"p4\" : prediction_list[4],\n",
    "    \"p5\" : prediction_list[5],\n",
    "    \"p6\" : prediction_list[6],\n",
    "    \"p7\" : prediction_list[7],\n",
    "    \"p8\" : prediction_list[8],\n",
    "    \"p9\" : prediction_list[9],\n",
    "})"
   ]
  },
  {
   "cell_type": "code",
   "execution_count": 62,
   "id": "tight-bangkok",
   "metadata": {},
   "outputs": [
    {
     "data": {
      "text/html": [
       "<div>\n",
       "<style scoped>\n",
       "    .dataframe tbody tr th:only-of-type {\n",
       "        vertical-align: middle;\n",
       "    }\n",
       "\n",
       "    .dataframe tbody tr th {\n",
       "        vertical-align: top;\n",
       "    }\n",
       "\n",
       "    .dataframe thead th {\n",
       "        text-align: right;\n",
       "    }\n",
       "</style>\n",
       "<table border=\"1\" class=\"dataframe\">\n",
       "  <thead>\n",
       "    <tr style=\"text-align: right;\">\n",
       "      <th></th>\n",
       "      <th>p0</th>\n",
       "      <th>p1</th>\n",
       "      <th>p2</th>\n",
       "      <th>p3</th>\n",
       "      <th>p4</th>\n",
       "      <th>p5</th>\n",
       "      <th>p6</th>\n",
       "      <th>p7</th>\n",
       "      <th>p8</th>\n",
       "      <th>p9</th>\n",
       "    </tr>\n",
       "  </thead>\n",
       "  <tbody>\n",
       "    <tr>\n",
       "      <th>0</th>\n",
       "      <td>3.598691e+07</td>\n",
       "      <td>8.898449e+07</td>\n",
       "      <td>4.979602e+07</td>\n",
       "      <td>4.899496e+07</td>\n",
       "      <td>6.929222e+07</td>\n",
       "      <td>3.071453e+07</td>\n",
       "      <td>4.219539e+07</td>\n",
       "      <td>5.141936e+07</td>\n",
       "      <td>5.869663e+07</td>\n",
       "      <td>4.090976e+07</td>\n",
       "    </tr>\n",
       "    <tr>\n",
       "      <th>1</th>\n",
       "      <td>8.013962e+07</td>\n",
       "      <td>7.764723e+07</td>\n",
       "      <td>7.391662e+07</td>\n",
       "      <td>7.876533e+07</td>\n",
       "      <td>7.798276e+07</td>\n",
       "      <td>7.190972e+07</td>\n",
       "      <td>7.975480e+07</td>\n",
       "      <td>7.831372e+07</td>\n",
       "      <td>8.138464e+07</td>\n",
       "      <td>6.626285e+07</td>\n",
       "    </tr>\n",
       "    <tr>\n",
       "      <th>2</th>\n",
       "      <td>6.955557e+07</td>\n",
       "      <td>5.975284e+07</td>\n",
       "      <td>6.488364e+07</td>\n",
       "      <td>6.184422e+07</td>\n",
       "      <td>5.820439e+07</td>\n",
       "      <td>6.889825e+07</td>\n",
       "      <td>6.835944e+07</td>\n",
       "      <td>7.249397e+07</td>\n",
       "      <td>6.824263e+07</td>\n",
       "      <td>6.217918e+07</td>\n",
       "    </tr>\n",
       "    <tr>\n",
       "      <th>3</th>\n",
       "      <td>6.728964e+07</td>\n",
       "      <td>6.550025e+07</td>\n",
       "      <td>6.890691e+07</td>\n",
       "      <td>6.442775e+07</td>\n",
       "      <td>6.398874e+07</td>\n",
       "      <td>7.015817e+07</td>\n",
       "      <td>6.999390e+07</td>\n",
       "      <td>7.199945e+07</td>\n",
       "      <td>7.553936e+07</td>\n",
       "      <td>6.213375e+07</td>\n",
       "    </tr>\n",
       "    <tr>\n",
       "      <th>4</th>\n",
       "      <td>6.213811e+07</td>\n",
       "      <td>5.550960e+07</td>\n",
       "      <td>5.549230e+07</td>\n",
       "      <td>6.031831e+07</td>\n",
       "      <td>5.449230e+07</td>\n",
       "      <td>5.515469e+07</td>\n",
       "      <td>5.701604e+07</td>\n",
       "      <td>6.407188e+07</td>\n",
       "      <td>7.040724e+07</td>\n",
       "      <td>5.944986e+07</td>\n",
       "    </tr>\n",
       "  </tbody>\n",
       "</table>\n",
       "</div>"
      ],
      "text/plain": [
       "             p0            p1            p2            p3            p4  \\\n",
       "0  3.598691e+07  8.898449e+07  4.979602e+07  4.899496e+07  6.929222e+07   \n",
       "1  8.013962e+07  7.764723e+07  7.391662e+07  7.876533e+07  7.798276e+07   \n",
       "2  6.955557e+07  5.975284e+07  6.488364e+07  6.184422e+07  5.820439e+07   \n",
       "3  6.728964e+07  6.550025e+07  6.890691e+07  6.442775e+07  6.398874e+07   \n",
       "4  6.213811e+07  5.550960e+07  5.549230e+07  6.031831e+07  5.449230e+07   \n",
       "\n",
       "             p5            p6            p7            p8            p9  \n",
       "0  3.071453e+07  4.219539e+07  5.141936e+07  5.869663e+07  4.090976e+07  \n",
       "1  7.190972e+07  7.975480e+07  7.831372e+07  8.138464e+07  6.626285e+07  \n",
       "2  6.889825e+07  6.835944e+07  7.249397e+07  6.824263e+07  6.217918e+07  \n",
       "3  7.015817e+07  6.999390e+07  7.199945e+07  7.553936e+07  6.213375e+07  \n",
       "4  5.515469e+07  5.701604e+07  6.407188e+07  7.040724e+07  5.944986e+07  "
      ]
     },
     "execution_count": 62,
     "metadata": {},
     "output_type": "execute_result"
    }
   ],
   "source": [
    "df.head()"
   ]
  },
  {
   "cell_type": "code",
   "execution_count": 59,
   "id": "guided-undergraduate",
   "metadata": {},
   "outputs": [
    {
     "data": {
      "text/plain": [
       "51699027.76683371"
      ]
     },
     "execution_count": 59,
     "metadata": {},
     "output_type": "execute_result"
    }
   ],
   "source": [
    "np.mean(df.iloc[0])"
   ]
  },
  {
   "cell_type": "code",
   "execution_count": 60,
   "id": "biblical-throat",
   "metadata": {},
   "outputs": [
    {
     "data": {
      "text/plain": [
       "51699027.76683371"
      ]
     },
     "execution_count": 60,
     "metadata": {},
     "output_type": "execute_result"
    }
   ],
   "source": [
    "prediction[0]"
   ]
  },
  {
   "cell_type": "code",
   "execution_count": 49,
   "id": "powerful-timothy",
   "metadata": {},
   "outputs": [
    {
     "data": {
      "text/plain": [
       "3828"
      ]
     },
     "execution_count": 49,
     "metadata": {},
     "output_type": "execute_result"
    }
   ],
   "source": [
    "len(prediction)"
   ]
  },
  {
   "cell_type": "code",
   "execution_count": 50,
   "id": "american-possession",
   "metadata": {},
   "outputs": [
    {
     "data": {
      "text/plain": [
       "3828"
      ]
     },
     "execution_count": 50,
     "metadata": {},
     "output_type": "execute_result"
    }
   ],
   "source": [
    "len(test)"
   ]
  }
 ],
 "metadata": {
  "kernelspec": {
   "display_name": "Python 3",
   "language": "python",
   "name": "python3"
  },
  "language_info": {
   "codemirror_mode": {
    "name": "ipython",
    "version": 3
   },
   "file_extension": ".py",
   "mimetype": "text/x-python",
   "name": "python",
   "nbconvert_exporter": "python",
   "pygments_lexer": "ipython3",
   "version": "3.7.10"
  }
 },
 "nbformat": 4,
 "nbformat_minor": 5
}
